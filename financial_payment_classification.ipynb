{
 "cells": [
  {
   "attachments": {},
   "cell_type": "markdown",
   "id": "01b5c703",
   "metadata": {},
   "source": [
    "# SageMaker Payment Classification \n"
   ]
  },
  {
   "attachments": {},
   "cell_type": "markdown",
   "id": "6498f087",
   "metadata": {},
   "source": [
    "---\n",
    "\n",
    "This notebook's CI test result for us-west-2 is as follows. CI test results in other regions can be found at the end of the notebook. \n",
    "\n",
    "![This us-west-2 badge failed to load. Check your device's internet connectivity, otherwise the service is currently unavailable](https://prod.us-west-2.tcx-beacon.docs.aws.dev/sagemaker-nb/us-west-2/use-cases|financial_payment_classification|financial_payment_classification.ipynb)\n",
    "\n",
    "---"
   ]
  },
  {
   "attachments": {},
   "cell_type": "markdown",
   "id": "c2e49281",
   "metadata": {},
   "source": [
    "\n",
    "## Background <a class=\"anchor\" id=\"Background\"></a>\n",
    "\n",
    "This notebook demonstrates how you can train and deploy a machine learning model to classify payment transactions. Enriching financial transactions with the category of the transaction. This can be used as an intermediate step in fraud detection, personalization or anomaly detection. As well as a method to provide end users (e.g. customers at a bank) with an overview of their spending habits. Amazon SageMaker can be used to train and deploy a XGBoost model, as well as the required underlying infrastructure. For this notebook a generated dataset is used where a payment consists of mostly an amount, sender, receiver and timestamp.\n",
    "\n",
    "\n",
    "## Notebook overview <a class=\"anchor\" id=\"Notebook-overview\"></a>\n",
    "\n",
    "This notebook consists of seven parts. First, we import and configure the required libraries. After that we prepare the data used in this example and create the feature store. With the newly created features we create a XGBoost model. An endpoint is created to host this model. We evaluate the performance of the model and end by cleaning up the used resources.\n",
    "\n",
    "## Dataset <a class=\"anchor\" id=\"Dataset\"></a>\n",
    "\n",
    "For this notebook we use a synthetic dataset. This dataset has the following features \n",
    "\n",
    "* __transaction_category__: The category of the transaction, this is one of the next 19 options.\n",
    "\n",
    "               'Uncategorized', 'Entertainment', 'Education',\n",
    "                    'Shopping', 'Personal Care', 'Health and Fitness',\n",
    "             'Food and Dining', 'Gifts and Donations', 'Investments',\n",
    "         'Bills and Utilities', 'Auto and Transport', 'Travel',\n",
    "            'Fees and Charges', 'Business Services', 'Personal Services',\n",
    "                       'Taxes', 'Gambling', 'Home',\n",
    "      'Pension and insurances'\n",
    "\n",
    "\n",
    "* __receiver_id__: an identifier for the receiving party. The identifier consist of 16 numbers.\n",
    "* __sender_id__: an identifier for the sending party. The identifier consist of 16 numbers.\n",
    "* __amount__: the amount which is transferred.\n",
    "* __timestamp__: the timestamp of the transaction in YYYY-MM-DD HH:MM:SS format.\n",
    "\n",
    "\n",
    "### 1. Setup <a class=\"anchor\" id=\"Setup\"></a>\n",
    "\n",
    "Before we start we need to update the sagemaker library"
   ]
  },
  {
   "cell_type": "code",
   "execution_count": 1,
   "id": "fff19d6b",
   "metadata": {},
   "outputs": [
    {
     "name": "stdout",
     "output_type": "stream",
     "text": [
      "\u001b[33mWARNING: Ignoring invalid distribution -yyaml (/home/sagemaker-user/.conda/envs/smdemo/lib/python3.9/site-packages)\u001b[0m\u001b[33m\n",
      "\u001b[0m\u001b[33mWARNING: Ignoring invalid distribution -yyaml (/home/sagemaker-user/.conda/envs/smdemo/lib/python3.9/site-packages)\u001b[0m\u001b[33m\n",
      "\u001b[0m\u001b[33mWARNING: Ignoring invalid distribution -yyaml (/home/sagemaker-user/.conda/envs/smdemo/lib/python3.9/site-packages)\u001b[0m\u001b[33m\n",
      "\u001b[0m\u001b[33mWARNING: Ignoring invalid distribution -yyaml (/home/sagemaker-user/.conda/envs/smdemo/lib/python3.9/site-packages)\u001b[0m\u001b[33m\n",
      "\u001b[0m"
     ]
    }
   ],
   "source": [
    "import sys\n",
    "\n",
    "!{sys.executable} -m pip install --upgrade pip       --quiet # upgrade pip to the latest vesion\n",
    "!{sys.executable} -m pip install --upgrade sagemaker --quiet # upgrade SageMaker to the latest vesion"
   ]
  },
  {
   "attachments": {},
   "cell_type": "markdown",
   "id": "1b17a94d",
   "metadata": {},
   "source": [
    "Now that we have the latest version we can import the libraries that we'll use in this notebook"
   ]
  },
  {
   "cell_type": "code",
   "execution_count": 2,
   "id": "42c5d6d0",
   "metadata": {},
   "outputs": [
    {
     "name": "stdout",
     "output_type": "stream",
     "text": [
      "sagemaker.config INFO - Not applying SDK defaults from location: /etc/xdg/sagemaker/config.yaml\n",
      "sagemaker.config INFO - Not applying SDK defaults from location: /home/sagemaker-user/.config/sagemaker/config.yaml\n"
     ]
    }
   ],
   "source": [
    "import boto3\n",
    "import io\n",
    "import sagemaker\n",
    "import time\n",
    "import os\n",
    "\n",
    "from time import sleep\n",
    "from sklearn.metrics import classification_report\n",
    "from sagemaker.feature_store.feature_group import FeatureGroup\n",
    "\n",
    "import pandas as pd\n",
    "import numpy as np\n",
    "\n",
    "import mlrun"
   ]
  },
  {
   "attachments": {},
   "cell_type": "markdown",
   "id": "3af7c33d",
   "metadata": {},
   "source": [
    "Let's set the session variables to ensure that SageMaker is configured correctly."
   ]
  },
  {
   "cell_type": "code",
   "execution_count": 3,
   "id": "c0e4db17",
   "metadata": {},
   "outputs": [],
   "source": [
    "region = sagemaker.Session().boto_region_name\n",
    "sm_client = boto3.client(\"sagemaker\")\n",
    "boto_session = boto3.Session(region_name=region)\n",
    "sagemaker_session = sagemaker.session.Session(boto_session=boto_session, sagemaker_client=sm_client)\n",
    "role = os.environ[\"SAGEMAKER-ROLE\"]\n",
    "bucket_prefix = \"payment-classification\"\n",
    "s3_bucket = sagemaker_session.default_bucket()"
   ]
  },
  {
   "attachments": {},
   "cell_type": "markdown",
   "id": "4fe6a975",
   "metadata": {},
   "source": [
    "We define the factorize key which is used to map the '__transaction_category__' to numeric values"
   ]
  },
  {
   "cell_type": "code",
   "execution_count": 4,
   "id": "43946b9f",
   "metadata": {},
   "outputs": [],
   "source": [
    "factorize_key = {\n",
    "    \"Uncategorized\": 0,\n",
    "    \"Entertainment\": 1,\n",
    "    \"Education\": 2,\n",
    "    \"Shopping\": 3,\n",
    "    \"Personal Care\": 4,\n",
    "    \"Health and Fitness\": 5,\n",
    "    \"Food and Dining\": 6,\n",
    "    \"Gifts and Donations\": 7,\n",
    "    \"Investments\": 8,\n",
    "    \"Bills and Utilities\": 9,\n",
    "    \"Auto and Transport\": 10,\n",
    "    \"Travel\": 11,\n",
    "    \"Fees and Charges\": 12,\n",
    "    \"Business Services\": 13,\n",
    "    \"Personal Services\": 14,\n",
    "    \"Taxes\": 15,\n",
    "    \"Gambling\": 16,\n",
    "    \"Home\": 17,\n",
    "    \"Pension and insurances\": 18,\n",
    "}\n",
    "\n",
    "factorize_key = {key: str(value) for key, value in factorize_key.items()}"
   ]
  },
  {
   "attachments": {},
   "cell_type": "markdown",
   "id": "5e3dc3c4",
   "metadata": {},
   "source": [
    "### 2. Data preparation <a class=\"anchor\" id=\"Data-preparation\"></a>\n",
    "\n",
    "We ingest the simulated data from the public SageMaker S3 training database:"
   ]
  },
  {
   "cell_type": "code",
   "execution_count": 5,
   "id": "5ff0d280",
   "metadata": {},
   "outputs": [],
   "source": [
    "s3 = boto3.client(\"s3\")\n",
    "s3.download_file(\n",
    "    f\"sagemaker-example-files-prod-{region}\",\n",
    "    \"datasets/tabular/synthetic_financial/financial_transactions_mini.csv\",\n",
    "    \"financial_transactions_mini.csv\",\n",
    ")"
   ]
  },
  {
   "attachments": {},
   "cell_type": "markdown",
   "id": "08578d93",
   "metadata": {},
   "source": [
    "Let's start by loading the dataset from our csv file into a Pandas dataframe"
   ]
  },
  {
   "cell_type": "code",
   "execution_count": 6,
   "id": "a477abd7",
   "metadata": {},
   "outputs": [],
   "source": [
    "data = pd.read_csv(\n",
    "    \"financial_transactions_mini.csv\",\n",
    "    parse_dates=[\"timestamp\"],\n",
    "    infer_datetime_format=True,\n",
    "    dtype={\"transaction_category\": \"string\"},\n",
    ")"
   ]
  },
  {
   "attachments": {},
   "cell_type": "markdown",
   "id": "cf6be447",
   "metadata": {},
   "source": [
    "The dataframe looks as follows:\n",
    "\n",
    "| | transaction_category | receiver_id | sender_id | amount | timestamp |\n",
    "|------:|:-----------------------|-----------------:|-----------------:|---------:|:--------------------|\n",
    "| 39733 | Shopping | 4258863736072564 | 4630246970548037 | 91.58 | 2021-03-10 01:28:23 |\n",
    "| 27254 | Shopping | 4356269497886716 | 4752313573239323 | 115.17 | 2021-01-22 23:28:24 |\n",
    "| 30628 | Shopping | 4233636409552058 | 4635766441812956 | 90.98 | 2021-02-05 03:24:10 |\n",
    "| 46614 | Shopping | 4054967431278644 | 4823810986511227 | 86.74 | 2021-04-02 14:42:45 |\n",
    "| 37957 | Shopping | 4831814582525664 | 4254514582909482 | 123.27 | 2021-03-17 11:17:18 |\n",
    "| 46878 | Shopping | 4425943481448900 | 4349267977109013 | 65.53 | 2021-03-17 15:47:49 |\n",
    "| 81350 | Auto and Transport | 4146116413442105 | 4062723166078919 | 91.67 | 2021-03-29 13:23:44 |\n",
    "| 10613 | Entertainment | 4788727923958282 | 4485838385631386 | 76.22 | 2021-02-11 17:45:53 |\n",
    "| 46715 | Shopping | 4702782703461430 | 4944181591271506 | 86.67 | 2021-03-20 15:37:17 |\n",
    "| 69110 | Investments | 4180233446952120 | 4702069426390603 | 530.39 | 2021-04-21 08:28:13 |"
   ]
  },
  {
   "cell_type": "code",
   "execution_count": 7,
   "id": "558fa01c",
   "metadata": {},
   "outputs": [
    {
     "data": {
      "text/html": [
       "<div>\n",
       "<style scoped>\n",
       "    .dataframe tbody tr th:only-of-type {\n",
       "        vertical-align: middle;\n",
       "    }\n",
       "\n",
       "    .dataframe tbody tr th {\n",
       "        vertical-align: top;\n",
       "    }\n",
       "\n",
       "    .dataframe thead th {\n",
       "        text-align: right;\n",
       "    }\n",
       "</style>\n",
       "<table border=\"1\" class=\"dataframe\">\n",
       "  <thead>\n",
       "    <tr style=\"text-align: right;\">\n",
       "      <th></th>\n",
       "      <th>transaction_category</th>\n",
       "      <th>receiver_id</th>\n",
       "      <th>sender_id</th>\n",
       "      <th>amount</th>\n",
       "      <th>timestamp</th>\n",
       "    </tr>\n",
       "  </thead>\n",
       "  <tbody>\n",
       "    <tr>\n",
       "      <th>47177</th>\n",
       "      <td>Shopping</td>\n",
       "      <td>4968649149775898</td>\n",
       "      <td>4609072304828342</td>\n",
       "      <td>73.83</td>\n",
       "      <td>2021-04-01 22:43:20</td>\n",
       "    </tr>\n",
       "    <tr>\n",
       "      <th>41438</th>\n",
       "      <td>Shopping</td>\n",
       "      <td>4062842148144233</td>\n",
       "      <td>4878939591031620</td>\n",
       "      <td>119.59</td>\n",
       "      <td>2021-04-04 18:44:32</td>\n",
       "    </tr>\n",
       "    <tr>\n",
       "      <th>44521</th>\n",
       "      <td>Shopping</td>\n",
       "      <td>4462624220516819</td>\n",
       "      <td>4602386441721138</td>\n",
       "      <td>123.81</td>\n",
       "      <td>2021-04-04 16:38:48</td>\n",
       "    </tr>\n",
       "    <tr>\n",
       "      <th>8630</th>\n",
       "      <td>Entertainment</td>\n",
       "      <td>4770991682847140</td>\n",
       "      <td>4061703683147422</td>\n",
       "      <td>75.00</td>\n",
       "      <td>2021-02-14 19:53:54</td>\n",
       "    </tr>\n",
       "    <tr>\n",
       "      <th>48998</th>\n",
       "      <td>Shopping</td>\n",
       "      <td>4419770343842824</td>\n",
       "      <td>4524197287781218</td>\n",
       "      <td>79.45</td>\n",
       "      <td>2021-01-12 23:27:43</td>\n",
       "    </tr>\n",
       "    <tr>\n",
       "      <th>30235</th>\n",
       "      <td>Shopping</td>\n",
       "      <td>4928680229033121</td>\n",
       "      <td>4538132326549460</td>\n",
       "      <td>43.07</td>\n",
       "      <td>2021-04-12 11:03:14</td>\n",
       "    </tr>\n",
       "    <tr>\n",
       "      <th>50088</th>\n",
       "      <td>Personal Care</td>\n",
       "      <td>4827290622904985</td>\n",
       "      <td>4751069512790625</td>\n",
       "      <td>37.77</td>\n",
       "      <td>2021-01-14 18:20:44</td>\n",
       "    </tr>\n",
       "    <tr>\n",
       "      <th>36649</th>\n",
       "      <td>Shopping</td>\n",
       "      <td>4721686963010836</td>\n",
       "      <td>4939040219765629</td>\n",
       "      <td>131.13</td>\n",
       "      <td>2021-04-24 16:29:56</td>\n",
       "    </tr>\n",
       "    <tr>\n",
       "      <th>32358</th>\n",
       "      <td>Shopping</td>\n",
       "      <td>4809205213807274</td>\n",
       "      <td>4544332332005588</td>\n",
       "      <td>110.79</td>\n",
       "      <td>2021-04-26 07:20:06</td>\n",
       "    </tr>\n",
       "    <tr>\n",
       "      <th>58131</th>\n",
       "      <td>Food and Dining</td>\n",
       "      <td>4236560987578557</td>\n",
       "      <td>4629183456621801</td>\n",
       "      <td>216.96</td>\n",
       "      <td>2021-01-15 17:44:36</td>\n",
       "    </tr>\n",
       "  </tbody>\n",
       "</table>\n",
       "</div>"
      ],
      "text/plain": [
       "      transaction_category       receiver_id         sender_id  amount  \\\n",
       "47177             Shopping  4968649149775898  4609072304828342   73.83   \n",
       "41438             Shopping  4062842148144233  4878939591031620  119.59   \n",
       "44521             Shopping  4462624220516819  4602386441721138  123.81   \n",
       "8630         Entertainment  4770991682847140  4061703683147422   75.00   \n",
       "48998             Shopping  4419770343842824  4524197287781218   79.45   \n",
       "30235             Shopping  4928680229033121  4538132326549460   43.07   \n",
       "50088        Personal Care  4827290622904985  4751069512790625   37.77   \n",
       "36649             Shopping  4721686963010836  4939040219765629  131.13   \n",
       "32358             Shopping  4809205213807274  4544332332005588  110.79   \n",
       "58131      Food and Dining  4236560987578557  4629183456621801  216.96   \n",
       "\n",
       "                timestamp  \n",
       "47177 2021-04-01 22:43:20  \n",
       "41438 2021-04-04 18:44:32  \n",
       "44521 2021-04-04 16:38:48  \n",
       "8630  2021-02-14 19:53:54  \n",
       "48998 2021-01-12 23:27:43  \n",
       "30235 2021-04-12 11:03:14  \n",
       "50088 2021-01-14 18:20:44  \n",
       "36649 2021-04-24 16:29:56  \n",
       "32358 2021-04-26 07:20:06  \n",
       "58131 2021-01-15 17:44:36  "
      ]
     },
     "execution_count": 7,
     "metadata": {},
     "output_type": "execute_result"
    }
   ],
   "source": [
    "data.sample(10)"
   ]
  },
  {
   "attachments": {},
   "cell_type": "markdown",
   "id": "b5492919",
   "metadata": {},
   "source": [
    "Next, we extract the year, month, day, hour, minute, second from the timestamp and remove the timestamp"
   ]
  },
  {
   "cell_type": "code",
   "execution_count": 8,
   "id": "24f6090e",
   "metadata": {},
   "outputs": [],
   "source": [
    "data[\"year\"] = data[\"timestamp\"].dt.year\n",
    "data[\"month\"] = data[\"timestamp\"].dt.month\n",
    "data[\"day\"] = data[\"timestamp\"].dt.day\n",
    "data[\"hour\"] = data[\"timestamp\"].dt.hour\n",
    "data[\"minute\"] = data[\"timestamp\"].dt.minute\n",
    "data[\"second\"] = data[\"timestamp\"].dt.second\n",
    "\n",
    "del data[\"timestamp\"]"
   ]
  },
  {
   "attachments": {},
   "cell_type": "markdown",
   "id": "f7314f8a",
   "metadata": {},
   "source": [
    "We'll transform the transaction categories to numeric targets for the classification by factorization."
   ]
  },
  {
   "cell_type": "code",
   "execution_count": 9,
   "id": "ea2ebdd5",
   "metadata": {},
   "outputs": [],
   "source": [
    "data[\"transaction_category\"] = data[\"transaction_category\"].replace(factorize_key)"
   ]
  },
  {
   "attachments": {},
   "cell_type": "markdown",
   "id": "9b9ed583",
   "metadata": {},
   "source": [
    "### 3. Create feature store <a class=\"anchor\" id=\"Create-feature-store\"></a>\n",
    "\n",
    "To enrich dataset we will use the [Feature Store](https://aws.amazon.com/sagemaker/feature-store/). "
   ]
  },
  {
   "attachments": {},
   "cell_type": "markdown",
   "id": "233b862a",
   "metadata": {},
   "source": [
    "Before creating the feature store itself we need to set a name for the feature group and identifier used"
   ]
  },
  {
   "cell_type": "code",
   "execution_count": 10,
   "id": "9df53a9c",
   "metadata": {},
   "outputs": [],
   "source": [
    "feature_group_name = \"feature-group-payment-classification\"\n",
    "record_identifier_feature_name = \"identifier\""
   ]
  },
  {
   "attachments": {},
   "cell_type": "markdown",
   "id": "8d9b663f",
   "metadata": {},
   "source": [
    "With the name we defined we create the feature group, runtime and session"
   ]
  },
  {
   "cell_type": "code",
   "execution_count": 11,
   "id": "1aef7f91",
   "metadata": {},
   "outputs": [],
   "source": [
    "feature_group = FeatureGroup(name=feature_group_name, sagemaker_session=sagemaker_session)\n",
    "\n",
    "featurestore_runtime = boto_session.client(\n",
    "    service_name=\"sagemaker-featurestore-runtime\", region_name=region\n",
    ")\n",
    "\n",
    "feature_store_session = sagemaker.Session(\n",
    "    boto_session=boto_session,\n",
    "    sagemaker_client=sm_client,\n",
    "    sagemaker_featurestore_runtime_client=featurestore_runtime,\n",
    ")"
   ]
  },
  {
   "attachments": {},
   "cell_type": "markdown",
   "id": "3f3d69f5",
   "metadata": {},
   "source": [
    "Once we have defined our feature store we need to put some data in it. We create a Pandas dataframe with the columns mean_amount, count, identifier and event time to store in the feature store"
   ]
  },
  {
   "cell_type": "code",
   "execution_count": 12,
   "id": "a1a250da",
   "metadata": {},
   "outputs": [],
   "source": [
    "columns = [\"mean_amount\", \"count\", \"identifier\", \"EventTime\"]\n",
    "feature_store_data = pd.DataFrame(columns=columns, dtype=object)\n",
    "\n",
    "feature_store_data[\"identifier\"] = range(19)\n",
    "feature_store_data[\"mean_amount\"] = 0.0\n",
    "feature_store_data[\"count\"] = 1\n",
    "feature_store_data[\"EventTime\"] = time.time()"
   ]
  },
  {
   "attachments": {},
   "cell_type": "markdown",
   "id": "dea2565b",
   "metadata": {},
   "source": [
    "Using the created dataframe we set the feature definitions"
   ]
  },
  {
   "cell_type": "code",
   "execution_count": 13,
   "id": "292571c7",
   "metadata": {},
   "outputs": [
    {
     "data": {
      "text/plain": [
       "[FeatureDefinition(feature_name='mean_amount', feature_type=<FeatureTypeEnum.FRACTIONAL: 'Fractional'>, collection_type=None),\n",
       " FeatureDefinition(feature_name='count', feature_type=<FeatureTypeEnum.INTEGRAL: 'Integral'>, collection_type=None),\n",
       " FeatureDefinition(feature_name='identifier', feature_type=<FeatureTypeEnum.INTEGRAL: 'Integral'>, collection_type=None),\n",
       " FeatureDefinition(feature_name='EventTime', feature_type=<FeatureTypeEnum.FRACTIONAL: 'Fractional'>, collection_type=None)]"
      ]
     },
     "execution_count": 13,
     "metadata": {},
     "output_type": "execute_result"
    }
   ],
   "source": [
    "feature_group.load_feature_definitions(data_frame=feature_store_data)"
   ]
  },
  {
   "attachments": {},
   "cell_type": "markdown",
   "id": "2a845e07",
   "metadata": {},
   "source": [
    "With these definitions ready we can create the feature group itself"
   ]
  },
  {
   "cell_type": "code",
   "execution_count": 14,
   "id": "d046eeb4",
   "metadata": {},
   "outputs": [
    {
     "data": {
      "text/plain": [
       "{'FeatureGroupArn': 'arn:aws:sagemaker:us-east-2:934638699319:feature-group/feature-group-payment-classification',\n",
       " 'ResponseMetadata': {'RequestId': '32eefc0a-1d32-4ce8-9801-715d94cff910',\n",
       "  'HTTPStatusCode': 200,\n",
       "  'HTTPHeaders': {'x-amzn-requestid': '32eefc0a-1d32-4ce8-9801-715d94cff910',\n",
       "   'content-type': 'application/x-amz-json-1.1',\n",
       "   'content-length': '113',\n",
       "   'date': 'Mon, 12 Feb 2024 13:21:13 GMT'},\n",
       "  'RetryAttempts': 0}}"
      ]
     },
     "execution_count": 14,
     "metadata": {},
     "output_type": "execute_result"
    }
   ],
   "source": [
    "feature_group.create(\n",
    "    s3_uri=f\"s3://{s3_bucket}/{bucket_prefix}\",\n",
    "    record_identifier_name=record_identifier_feature_name,\n",
    "    event_time_feature_name=\"EventTime\",\n",
    "    role_arn=role,\n",
    "    enable_online_store=True,\n",
    ")"
   ]
  },
  {
   "attachments": {},
   "cell_type": "markdown",
   "id": "95ad73b1",
   "metadata": {},
   "source": [
    "It takes a couple of minutes for the feature group to be created, we need to wait for this to be done before trying to ingest data in the feature store"
   ]
  },
  {
   "cell_type": "code",
   "execution_count": 15,
   "id": "530865ec",
   "metadata": {},
   "outputs": [
    {
     "name": "stdout",
     "output_type": "stream",
     "text": [
      "Waiting for Feature Group to be Created\n",
      "Waiting for Feature Group to be Created\n",
      "Waiting for Feature Group to be Created\n",
      "FeatureGroup feature-group-payment-classification successfully created.\n"
     ]
    }
   ],
   "source": [
    "status = feature_group.describe().get(\"FeatureGroupStatus\")\n",
    "while status == \"Creating\":\n",
    "    print(\"Waiting for Feature Group to be Created\")\n",
    "    time.sleep(5)\n",
    "    status = feature_group.describe().get(\"FeatureGroupStatus\")\n",
    "print(f\"FeatureGroup {feature_group.name} successfully created.\")"
   ]
  },
  {
   "attachments": {},
   "cell_type": "markdown",
   "id": "3df88321",
   "metadata": {},
   "source": [
    "Once the feature group is created we can ingest data into it"
   ]
  },
  {
   "cell_type": "code",
   "execution_count": 16,
   "id": "8168ebd5",
   "metadata": {},
   "outputs": [
    {
     "data": {
      "text/plain": [
       "IngestionManagerPandas(feature_group_name='feature-group-payment-classification', sagemaker_fs_runtime_client_config=<botocore.config.Config object at 0x7f70e9380f10>, sagemaker_session=<sagemaker.session.Session object at 0x7f711fb867c0>, max_workers=3, max_processes=1, profile_name=None, _async_result=<multiprocess.pool.MapResult object at 0x7f70e62c6820>, _processing_pool=<pool ProcessPool(ncpus=1)>, _failed_indices=[])"
      ]
     },
     "execution_count": 16,
     "metadata": {},
     "output_type": "execute_result"
    }
   ],
   "source": [
    "feature_group.ingest(data_frame=feature_store_data, max_workers=3, wait=True)"
   ]
  },
  {
   "attachments": {},
   "cell_type": "markdown",
   "id": "485d1906",
   "metadata": {},
   "source": [
    "To retrieve data from our feature store we define a function that gets the current values from the feature store"
   ]
  },
  {
   "cell_type": "code",
   "execution_count": 17,
   "id": "5f36a576",
   "metadata": {},
   "outputs": [],
   "source": [
    "def get_feature_store_values():\n",
    "    response = featurestore_runtime.batch_get_record(\n",
    "        Identifiers=[\n",
    "            {\n",
    "                \"FeatureGroupName\": feature_group_name,\n",
    "                \"RecordIdentifiersValueAsString\": [str(i) for i in range(19)],\n",
    "            }\n",
    "        ]\n",
    "    )\n",
    "\n",
    "    columns = [\"mean_amount\", \"count\", \"identifier\", \"EventTime\"]\n",
    "\n",
    "    feature_store_resp = pd.DataFrame(\n",
    "        data=[\n",
    "            [resp[\"Record\"][i][\"ValueAsString\"] for i in range(len(columns))]\n",
    "            for resp in response[\"Records\"]\n",
    "        ],\n",
    "        columns=columns,\n",
    "    )\n",
    "    feature_store_resp[\"identifier\"] = feature_store_resp[\"identifier\"].astype(int)\n",
    "    feature_store_resp[\"count\"] = feature_store_resp[\"count\"].astype(int)\n",
    "    feature_store_resp[\"mean_amount\"] = feature_store_resp[\"mean_amount\"].astype(float)\n",
    "    feature_store_resp[\"EventTime\"] = feature_store_resp[\"EventTime\"].astype(float)\n",
    "    feature_store_resp = feature_store_resp.sort_values(by=\"identifier\")\n",
    "\n",
    "    return feature_store_resp\n",
    "\n",
    "\n",
    "feature_store_resp = get_feature_store_values()"
   ]
  },
  {
   "attachments": {},
   "cell_type": "markdown",
   "id": "b5e4834e",
   "metadata": {},
   "source": [
    "We update the values in the feature store with the real values of our data"
   ]
  },
  {
   "cell_type": "code",
   "execution_count": 18,
   "id": "cb025e68",
   "metadata": {},
   "outputs": [
    {
     "data": {
      "text/plain": [
       "IngestionManagerPandas(feature_group_name='feature-group-payment-classification', sagemaker_fs_runtime_client_config=<botocore.config.Config object at 0x7f70e9380f10>, sagemaker_session=<sagemaker.session.Session object at 0x7f711fb867c0>, max_workers=3, max_processes=1, profile_name=None, _async_result=<multiprocess.pool.MapResult object at 0x7f70e62eeeb0>, _processing_pool=<pool ProcessPool(ncpus=1)>, _failed_indices=[])"
      ]
     },
     "execution_count": 18,
     "metadata": {},
     "output_type": "execute_result"
    }
   ],
   "source": [
    "feature_store_data = pd.DataFrame()\n",
    "feature_store_data[\"mean_amount\"] = data.groupby([\"transaction_category\"]).mean()[\"amount\"]\n",
    "feature_store_data[\"count\"] = data.groupby([\"transaction_category\"]).count()[\"amount\"]\n",
    "feature_store_data[\"identifier\"] = feature_store_data.index\n",
    "feature_store_data[\"EventTime\"] = time.time()\n",
    "\n",
    "feature_store_data[\"mean_amount\"] = (\n",
    "    pd.concat([feature_store_resp, feature_store_data])\n",
    "    .groupby(\"identifier\")\n",
    "    .apply(lambda x: np.average(x[\"mean_amount\"], weights=x[\"count\"]))\n",
    ")\n",
    "feature_store_data[\"count\"] = (\n",
    "    pd.concat([feature_store_resp, feature_store_data]).groupby(\"identifier\").sum()[\"count\"]\n",
    ")\n",
    "\n",
    "feature_group.ingest(data_frame=feature_store_data, max_workers=3, wait=True)"
   ]
  },
  {
   "attachments": {},
   "cell_type": "markdown",
   "id": "e2f6395f",
   "metadata": {},
   "source": [
    "And display them after getting them from the feature store"
   ]
  },
  {
   "cell_type": "code",
   "execution_count": 19,
   "id": "10b23bf6",
   "metadata": {},
   "outputs": [
    {
     "data": {
      "text/html": [
       "<div>\n",
       "<style scoped>\n",
       "    .dataframe tbody tr th:only-of-type {\n",
       "        vertical-align: middle;\n",
       "    }\n",
       "\n",
       "    .dataframe tbody tr th {\n",
       "        vertical-align: top;\n",
       "    }\n",
       "\n",
       "    .dataframe thead th {\n",
       "        text-align: right;\n",
       "    }\n",
       "</style>\n",
       "<table border=\"1\" class=\"dataframe\">\n",
       "  <thead>\n",
       "    <tr style=\"text-align: right;\">\n",
       "      <th></th>\n",
       "      <th>mean_amount</th>\n",
       "      <th>count</th>\n",
       "      <th>identifier</th>\n",
       "      <th>EventTime</th>\n",
       "    </tr>\n",
       "  </thead>\n",
       "  <tbody>\n",
       "    <tr>\n",
       "      <th>2</th>\n",
       "      <td>495.837355</td>\n",
       "      <td>465</td>\n",
       "      <td>0</td>\n",
       "      <td>1.707744e+09</td>\n",
       "    </tr>\n",
       "    <tr>\n",
       "      <th>15</th>\n",
       "      <td>51.209382</td>\n",
       "      <td>14512</td>\n",
       "      <td>1</td>\n",
       "      <td>1.707744e+09</td>\n",
       "    </tr>\n",
       "    <tr>\n",
       "      <th>11</th>\n",
       "      <td>851.153495</td>\n",
       "      <td>744</td>\n",
       "      <td>2</td>\n",
       "      <td>1.707744e+09</td>\n",
       "    </tr>\n",
       "    <tr>\n",
       "      <th>14</th>\n",
       "      <td>100.917503</td>\n",
       "      <td>33953</td>\n",
       "      <td>3</td>\n",
       "      <td>1.707744e+09</td>\n",
       "    </tr>\n",
       "    <tr>\n",
       "      <th>5</th>\n",
       "      <td>31.504036</td>\n",
       "      <td>1209</td>\n",
       "      <td>4</td>\n",
       "      <td>1.707744e+09</td>\n",
       "    </tr>\n",
       "    <tr>\n",
       "      <th>8</th>\n",
       "      <td>119.596405</td>\n",
       "      <td>4837</td>\n",
       "      <td>5</td>\n",
       "      <td>1.707744e+09</td>\n",
       "    </tr>\n",
       "    <tr>\n",
       "      <th>4</th>\n",
       "      <td>93.249393</td>\n",
       "      <td>9674</td>\n",
       "      <td>6</td>\n",
       "      <td>1.707744e+09</td>\n",
       "    </tr>\n",
       "    <tr>\n",
       "      <th>16</th>\n",
       "      <td>51.072447</td>\n",
       "      <td>2791</td>\n",
       "      <td>7</td>\n",
       "      <td>1.707744e+09</td>\n",
       "    </tr>\n",
       "    <tr>\n",
       "      <th>17</th>\n",
       "      <td>6024.547484</td>\n",
       "      <td>930</td>\n",
       "      <td>8</td>\n",
       "      <td>1.707744e+09</td>\n",
       "    </tr>\n",
       "    <tr>\n",
       "      <th>10</th>\n",
       "      <td>114.779558</td>\n",
       "      <td>3349</td>\n",
       "      <td>9</td>\n",
       "      <td>1.707744e+09</td>\n",
       "    </tr>\n",
       "    <tr>\n",
       "      <th>7</th>\n",
       "      <td>100.977110</td>\n",
       "      <td>19349</td>\n",
       "      <td>10</td>\n",
       "      <td>1.707744e+09</td>\n",
       "    </tr>\n",
       "    <tr>\n",
       "      <th>9</th>\n",
       "      <td>351.807588</td>\n",
       "      <td>1302</td>\n",
       "      <td>11</td>\n",
       "      <td>1.707744e+09</td>\n",
       "    </tr>\n",
       "    <tr>\n",
       "      <th>0</th>\n",
       "      <td>26.950559</td>\n",
       "      <td>930</td>\n",
       "      <td>12</td>\n",
       "      <td>1.707744e+09</td>\n",
       "    </tr>\n",
       "    <tr>\n",
       "      <th>3</th>\n",
       "      <td>204.739197</td>\n",
       "      <td>1395</td>\n",
       "      <td>13</td>\n",
       "      <td>1.707744e+09</td>\n",
       "    </tr>\n",
       "    <tr>\n",
       "      <th>18</th>\n",
       "      <td>496.766086</td>\n",
       "      <td>930</td>\n",
       "      <td>14</td>\n",
       "      <td>1.707744e+09</td>\n",
       "    </tr>\n",
       "    <tr>\n",
       "      <th>12</th>\n",
       "      <td>2913.673247</td>\n",
       "      <td>465</td>\n",
       "      <td>15</td>\n",
       "      <td>1.707744e+09</td>\n",
       "    </tr>\n",
       "    <tr>\n",
       "      <th>13</th>\n",
       "      <td>375.228871</td>\n",
       "      <td>186</td>\n",
       "      <td>16</td>\n",
       "      <td>1.707744e+09</td>\n",
       "    </tr>\n",
       "    <tr>\n",
       "      <th>6</th>\n",
       "      <td>781.392199</td>\n",
       "      <td>1860</td>\n",
       "      <td>17</td>\n",
       "      <td>1.707744e+09</td>\n",
       "    </tr>\n",
       "    <tr>\n",
       "      <th>1</th>\n",
       "      <td>205.457151</td>\n",
       "      <td>1116</td>\n",
       "      <td>18</td>\n",
       "      <td>1.707744e+09</td>\n",
       "    </tr>\n",
       "  </tbody>\n",
       "</table>\n",
       "</div>"
      ],
      "text/plain": [
       "    mean_amount  count  identifier     EventTime\n",
       "2    495.837355    465           0  1.707744e+09\n",
       "15    51.209382  14512           1  1.707744e+09\n",
       "11   851.153495    744           2  1.707744e+09\n",
       "14   100.917503  33953           3  1.707744e+09\n",
       "5     31.504036   1209           4  1.707744e+09\n",
       "8    119.596405   4837           5  1.707744e+09\n",
       "4     93.249393   9674           6  1.707744e+09\n",
       "16    51.072447   2791           7  1.707744e+09\n",
       "17  6024.547484    930           8  1.707744e+09\n",
       "10   114.779558   3349           9  1.707744e+09\n",
       "7    100.977110  19349          10  1.707744e+09\n",
       "9    351.807588   1302          11  1.707744e+09\n",
       "0     26.950559    930          12  1.707744e+09\n",
       "3    204.739197   1395          13  1.707744e+09\n",
       "18   496.766086    930          14  1.707744e+09\n",
       "12  2913.673247    465          15  1.707744e+09\n",
       "13   375.228871    186          16  1.707744e+09\n",
       "6    781.392199   1860          17  1.707744e+09\n",
       "1    205.457151   1116          18  1.707744e+09"
      ]
     },
     "execution_count": 19,
     "metadata": {},
     "output_type": "execute_result"
    }
   ],
   "source": [
    "feature_store_data = get_feature_store_values()\n",
    "feature_store_data"
   ]
  },
  {
   "attachments": {},
   "cell_type": "markdown",
   "id": "cf148985",
   "metadata": {},
   "source": [
    "We use the feature store to calculate the distance between the average of every category and the current amount"
   ]
  },
  {
   "cell_type": "code",
   "execution_count": 20,
   "id": "4a3e85de",
   "metadata": {},
   "outputs": [
    {
     "data": {
      "text/html": [
       "<div>\n",
       "<style scoped>\n",
       "    .dataframe tbody tr th:only-of-type {\n",
       "        vertical-align: middle;\n",
       "    }\n",
       "\n",
       "    .dataframe tbody tr th {\n",
       "        vertical-align: top;\n",
       "    }\n",
       "\n",
       "    .dataframe thead th {\n",
       "        text-align: right;\n",
       "    }\n",
       "</style>\n",
       "<table border=\"1\" class=\"dataframe\">\n",
       "  <thead>\n",
       "    <tr style=\"text-align: right;\">\n",
       "      <th></th>\n",
       "      <th>transaction_category</th>\n",
       "      <th>receiver_id</th>\n",
       "      <th>sender_id</th>\n",
       "      <th>amount</th>\n",
       "      <th>year</th>\n",
       "      <th>month</th>\n",
       "      <th>day</th>\n",
       "      <th>hour</th>\n",
       "      <th>minute</th>\n",
       "      <th>second</th>\n",
       "      <th>...</th>\n",
       "      <th>9_dist</th>\n",
       "      <th>10_dist</th>\n",
       "      <th>11_dist</th>\n",
       "      <th>12_dist</th>\n",
       "      <th>13_dist</th>\n",
       "      <th>14_dist</th>\n",
       "      <th>15_dist</th>\n",
       "      <th>16_dist</th>\n",
       "      <th>17_dist</th>\n",
       "      <th>18_dist</th>\n",
       "    </tr>\n",
       "  </thead>\n",
       "  <tbody>\n",
       "    <tr>\n",
       "      <th>0</th>\n",
       "      <td>0</td>\n",
       "      <td>4.518552e+15</td>\n",
       "      <td>4.333582e+15</td>\n",
       "      <td>833.26</td>\n",
       "      <td>2021.0</td>\n",
       "      <td>3.0</td>\n",
       "      <td>10.0</td>\n",
       "      <td>19.0</td>\n",
       "      <td>57.0</td>\n",
       "      <td>42.0</td>\n",
       "      <td>...</td>\n",
       "      <td>718.480442</td>\n",
       "      <td>732.28289</td>\n",
       "      <td>481.452412</td>\n",
       "      <td>806.309441</td>\n",
       "      <td>628.520803</td>\n",
       "      <td>336.493914</td>\n",
       "      <td>2080.413247</td>\n",
       "      <td>458.031129</td>\n",
       "      <td>51.867801</td>\n",
       "      <td>627.802849</td>\n",
       "    </tr>\n",
       "    <tr>\n",
       "      <th>1</th>\n",
       "      <td>0</td>\n",
       "      <td>4.518552e+15</td>\n",
       "      <td>4.642413e+15</td>\n",
       "      <td>596.63</td>\n",
       "      <td>2021.0</td>\n",
       "      <td>2.0</td>\n",
       "      <td>11.0</td>\n",
       "      <td>17.0</td>\n",
       "      <td>53.0</td>\n",
       "      <td>32.0</td>\n",
       "      <td>...</td>\n",
       "      <td>481.850442</td>\n",
       "      <td>495.65289</td>\n",
       "      <td>244.822412</td>\n",
       "      <td>569.679441</td>\n",
       "      <td>391.890803</td>\n",
       "      <td>99.863914</td>\n",
       "      <td>2317.043247</td>\n",
       "      <td>221.401129</td>\n",
       "      <td>184.762199</td>\n",
       "      <td>391.172849</td>\n",
       "    </tr>\n",
       "    <tr>\n",
       "      <th>2</th>\n",
       "      <td>0</td>\n",
       "      <td>4.274544e+15</td>\n",
       "      <td>4.952666e+15</td>\n",
       "      <td>176.76</td>\n",
       "      <td>2021.0</td>\n",
       "      <td>2.0</td>\n",
       "      <td>21.0</td>\n",
       "      <td>18.0</td>\n",
       "      <td>29.0</td>\n",
       "      <td>32.0</td>\n",
       "      <td>...</td>\n",
       "      <td>61.980442</td>\n",
       "      <td>75.78289</td>\n",
       "      <td>175.047588</td>\n",
       "      <td>149.809441</td>\n",
       "      <td>27.979197</td>\n",
       "      <td>320.006086</td>\n",
       "      <td>2736.913247</td>\n",
       "      <td>198.468871</td>\n",
       "      <td>604.632199</td>\n",
       "      <td>28.697151</td>\n",
       "    </tr>\n",
       "    <tr>\n",
       "      <th>3</th>\n",
       "      <td>0</td>\n",
       "      <td>4.518552e+15</td>\n",
       "      <td>4.457299e+15</td>\n",
       "      <td>879.78</td>\n",
       "      <td>2021.0</td>\n",
       "      <td>4.0</td>\n",
       "      <td>9.0</td>\n",
       "      <td>16.0</td>\n",
       "      <td>14.0</td>\n",
       "      <td>19.0</td>\n",
       "      <td>...</td>\n",
       "      <td>765.000442</td>\n",
       "      <td>778.80289</td>\n",
       "      <td>527.972412</td>\n",
       "      <td>852.829441</td>\n",
       "      <td>675.040803</td>\n",
       "      <td>383.013914</td>\n",
       "      <td>2033.893247</td>\n",
       "      <td>504.551129</td>\n",
       "      <td>98.387801</td>\n",
       "      <td>674.322849</td>\n",
       "    </tr>\n",
       "    <tr>\n",
       "      <th>4</th>\n",
       "      <td>0</td>\n",
       "      <td>4.601853e+15</td>\n",
       "      <td>4.578126e+15</td>\n",
       "      <td>742.25</td>\n",
       "      <td>2021.0</td>\n",
       "      <td>4.0</td>\n",
       "      <td>4.0</td>\n",
       "      <td>15.0</td>\n",
       "      <td>50.0</td>\n",
       "      <td>16.0</td>\n",
       "      <td>...</td>\n",
       "      <td>627.470442</td>\n",
       "      <td>641.27289</td>\n",
       "      <td>390.442412</td>\n",
       "      <td>715.299441</td>\n",
       "      <td>537.510803</td>\n",
       "      <td>245.483914</td>\n",
       "      <td>2171.423247</td>\n",
       "      <td>367.021129</td>\n",
       "      <td>39.142199</td>\n",
       "      <td>536.792849</td>\n",
       "    </tr>\n",
       "    <tr>\n",
       "      <th>...</th>\n",
       "      <td>...</td>\n",
       "      <td>...</td>\n",
       "      <td>...</td>\n",
       "      <td>...</td>\n",
       "      <td>...</td>\n",
       "      <td>...</td>\n",
       "      <td>...</td>\n",
       "      <td>...</td>\n",
       "      <td>...</td>\n",
       "      <td>...</td>\n",
       "      <td>...</td>\n",
       "      <td>...</td>\n",
       "      <td>...</td>\n",
       "      <td>...</td>\n",
       "      <td>...</td>\n",
       "      <td>...</td>\n",
       "      <td>...</td>\n",
       "      <td>...</td>\n",
       "      <td>...</td>\n",
       "      <td>...</td>\n",
       "      <td>...</td>\n",
       "    </tr>\n",
       "    <tr>\n",
       "      <th>99992</th>\n",
       "      <td>18</td>\n",
       "      <td>4.405008e+15</td>\n",
       "      <td>4.583356e+15</td>\n",
       "      <td>205.43</td>\n",
       "      <td>2021.0</td>\n",
       "      <td>4.0</td>\n",
       "      <td>20.0</td>\n",
       "      <td>12.0</td>\n",
       "      <td>23.0</td>\n",
       "      <td>53.0</td>\n",
       "      <td>...</td>\n",
       "      <td>90.650442</td>\n",
       "      <td>104.45289</td>\n",
       "      <td>146.377588</td>\n",
       "      <td>178.479441</td>\n",
       "      <td>0.690803</td>\n",
       "      <td>291.336086</td>\n",
       "      <td>2708.243247</td>\n",
       "      <td>169.798871</td>\n",
       "      <td>575.962199</td>\n",
       "      <td>0.027151</td>\n",
       "    </tr>\n",
       "    <tr>\n",
       "      <th>99993</th>\n",
       "      <td>18</td>\n",
       "      <td>4.300417e+15</td>\n",
       "      <td>4.949241e+15</td>\n",
       "      <td>151.49</td>\n",
       "      <td>2021.0</td>\n",
       "      <td>3.0</td>\n",
       "      <td>24.0</td>\n",
       "      <td>19.0</td>\n",
       "      <td>30.0</td>\n",
       "      <td>18.0</td>\n",
       "      <td>...</td>\n",
       "      <td>36.710442</td>\n",
       "      <td>50.51289</td>\n",
       "      <td>200.317588</td>\n",
       "      <td>124.539441</td>\n",
       "      <td>53.249197</td>\n",
       "      <td>345.276086</td>\n",
       "      <td>2762.183247</td>\n",
       "      <td>223.738871</td>\n",
       "      <td>629.902199</td>\n",
       "      <td>53.967151</td>\n",
       "    </tr>\n",
       "    <tr>\n",
       "      <th>99994</th>\n",
       "      <td>18</td>\n",
       "      <td>4.405008e+15</td>\n",
       "      <td>4.996896e+15</td>\n",
       "      <td>188.28</td>\n",
       "      <td>2021.0</td>\n",
       "      <td>3.0</td>\n",
       "      <td>8.0</td>\n",
       "      <td>19.0</td>\n",
       "      <td>51.0</td>\n",
       "      <td>10.0</td>\n",
       "      <td>...</td>\n",
       "      <td>73.500442</td>\n",
       "      <td>87.30289</td>\n",
       "      <td>163.527588</td>\n",
       "      <td>161.329441</td>\n",
       "      <td>16.459197</td>\n",
       "      <td>308.486086</td>\n",
       "      <td>2725.393247</td>\n",
       "      <td>186.948871</td>\n",
       "      <td>593.112199</td>\n",
       "      <td>17.177151</td>\n",
       "    </tr>\n",
       "    <tr>\n",
       "      <th>99995</th>\n",
       "      <td>18</td>\n",
       "      <td>4.262047e+15</td>\n",
       "      <td>4.017367e+15</td>\n",
       "      <td>204.26</td>\n",
       "      <td>2021.0</td>\n",
       "      <td>2.0</td>\n",
       "      <td>14.0</td>\n",
       "      <td>23.0</td>\n",
       "      <td>25.0</td>\n",
       "      <td>7.0</td>\n",
       "      <td>...</td>\n",
       "      <td>89.480442</td>\n",
       "      <td>103.28289</td>\n",
       "      <td>147.547588</td>\n",
       "      <td>177.309441</td>\n",
       "      <td>0.479197</td>\n",
       "      <td>292.506086</td>\n",
       "      <td>2709.413247</td>\n",
       "      <td>170.968871</td>\n",
       "      <td>577.132199</td>\n",
       "      <td>1.197151</td>\n",
       "    </tr>\n",
       "    <tr>\n",
       "      <th>99996</th>\n",
       "      <td>18</td>\n",
       "      <td>4.627517e+15</td>\n",
       "      <td>4.250421e+15</td>\n",
       "      <td>207.92</td>\n",
       "      <td>2021.0</td>\n",
       "      <td>4.0</td>\n",
       "      <td>14.0</td>\n",
       "      <td>0.0</td>\n",
       "      <td>42.0</td>\n",
       "      <td>0.0</td>\n",
       "      <td>...</td>\n",
       "      <td>93.140442</td>\n",
       "      <td>106.94289</td>\n",
       "      <td>143.887588</td>\n",
       "      <td>180.969441</td>\n",
       "      <td>3.180803</td>\n",
       "      <td>288.846086</td>\n",
       "      <td>2705.753247</td>\n",
       "      <td>167.308871</td>\n",
       "      <td>573.472199</td>\n",
       "      <td>2.462849</td>\n",
       "    </tr>\n",
       "  </tbody>\n",
       "</table>\n",
       "<p>99997 rows × 29 columns</p>\n",
       "</div>"
      ],
      "text/plain": [
       "      transaction_category   receiver_id     sender_id  amount    year  month  \\\n",
       "0                        0  4.518552e+15  4.333582e+15  833.26  2021.0    3.0   \n",
       "1                        0  4.518552e+15  4.642413e+15  596.63  2021.0    2.0   \n",
       "2                        0  4.274544e+15  4.952666e+15  176.76  2021.0    2.0   \n",
       "3                        0  4.518552e+15  4.457299e+15  879.78  2021.0    4.0   \n",
       "4                        0  4.601853e+15  4.578126e+15  742.25  2021.0    4.0   \n",
       "...                    ...           ...           ...     ...     ...    ...   \n",
       "99992                   18  4.405008e+15  4.583356e+15  205.43  2021.0    4.0   \n",
       "99993                   18  4.300417e+15  4.949241e+15  151.49  2021.0    3.0   \n",
       "99994                   18  4.405008e+15  4.996896e+15  188.28  2021.0    3.0   \n",
       "99995                   18  4.262047e+15  4.017367e+15  204.26  2021.0    2.0   \n",
       "99996                   18  4.627517e+15  4.250421e+15  207.92  2021.0    4.0   \n",
       "\n",
       "        day  hour  minute  second  ...      9_dist    10_dist     11_dist  \\\n",
       "0      10.0  19.0    57.0    42.0  ...  718.480442  732.28289  481.452412   \n",
       "1      11.0  17.0    53.0    32.0  ...  481.850442  495.65289  244.822412   \n",
       "2      21.0  18.0    29.0    32.0  ...   61.980442   75.78289  175.047588   \n",
       "3       9.0  16.0    14.0    19.0  ...  765.000442  778.80289  527.972412   \n",
       "4       4.0  15.0    50.0    16.0  ...  627.470442  641.27289  390.442412   \n",
       "...     ...   ...     ...     ...  ...         ...        ...         ...   \n",
       "99992  20.0  12.0    23.0    53.0  ...   90.650442  104.45289  146.377588   \n",
       "99993  24.0  19.0    30.0    18.0  ...   36.710442   50.51289  200.317588   \n",
       "99994   8.0  19.0    51.0    10.0  ...   73.500442   87.30289  163.527588   \n",
       "99995  14.0  23.0    25.0     7.0  ...   89.480442  103.28289  147.547588   \n",
       "99996  14.0   0.0    42.0     0.0  ...   93.140442  106.94289  143.887588   \n",
       "\n",
       "          12_dist     13_dist     14_dist      15_dist     16_dist  \\\n",
       "0      806.309441  628.520803  336.493914  2080.413247  458.031129   \n",
       "1      569.679441  391.890803   99.863914  2317.043247  221.401129   \n",
       "2      149.809441   27.979197  320.006086  2736.913247  198.468871   \n",
       "3      852.829441  675.040803  383.013914  2033.893247  504.551129   \n",
       "4      715.299441  537.510803  245.483914  2171.423247  367.021129   \n",
       "...           ...         ...         ...          ...         ...   \n",
       "99992  178.479441    0.690803  291.336086  2708.243247  169.798871   \n",
       "99993  124.539441   53.249197  345.276086  2762.183247  223.738871   \n",
       "99994  161.329441   16.459197  308.486086  2725.393247  186.948871   \n",
       "99995  177.309441    0.479197  292.506086  2709.413247  170.968871   \n",
       "99996  180.969441    3.180803  288.846086  2705.753247  167.308871   \n",
       "\n",
       "          17_dist     18_dist  \n",
       "0       51.867801  627.802849  \n",
       "1      184.762199  391.172849  \n",
       "2      604.632199   28.697151  \n",
       "3       98.387801  674.322849  \n",
       "4       39.142199  536.792849  \n",
       "...           ...         ...  \n",
       "99992  575.962199    0.027151  \n",
       "99993  629.902199   53.967151  \n",
       "99994  593.112199   17.177151  \n",
       "99995  577.132199    1.197151  \n",
       "99996  573.472199    2.462849  \n",
       "\n",
       "[99997 rows x 29 columns]"
      ]
     },
     "execution_count": 20,
     "metadata": {},
     "output_type": "execute_result"
    }
   ],
   "source": [
    "additional_features = pd.pivot_table(\n",
    "    feature_store_data, values=[\"mean_amount\"], index=[\"identifier\"]\n",
    ").T.add_suffix(\"_dist\")\n",
    "additional_features_columns = list(additional_features.columns)\n",
    "data = pd.concat([data, pd.DataFrame(columns=additional_features_columns, dtype=object)])\n",
    "data[additional_features_columns] = additional_features.values[0]\n",
    "for col in additional_features_columns:\n",
    "    data[col] = abs(data[col] - data[\"amount\"])\n",
    "\n",
    "data"
   ]
  },
  {
   "attachments": {},
   "cell_type": "markdown",
   "id": "289eeca6",
   "metadata": {},
   "source": [
    "### 4. Create model <a class=\"anchor\" id=\"Create-model\"></a>\n",
    "In this notebook we will be using the [Extreme Gradient Boosting](https://docs.aws.amazon.com/sagemaker/latest/dg/xgboost.html) (XGBoost) implementation of the gradient boosted trees algorithm. This model is selected due to it relatively fast training time and explainable properties. The model can be substituted at will a different [SageMaker estimator](https://sagemaker.readthedocs.io/en/stable/api/training/estimators.html) or a [model of your choosing](https://aws.amazon.com/blogs/machine-learning/bring-your-own-model-with-amazon-sagemaker-script-mode/).\n",
    "\n",
    "\n",
    "\n",
    "Now that we have the dataset we can start preparing the model. First, we create a training, validation and testing split."
   ]
  },
  {
   "cell_type": "code",
   "execution_count": 21,
   "id": "bb4bdd8d",
   "metadata": {},
   "outputs": [],
   "source": [
    "# Randomly sort the data then split out first 70%, second 20%, and last 10%\n",
    "train_data, validation_data, test_data = np.split(\n",
    "    data.sample(frac=1, random_state=42), [int(0.7 * len(data)), int(0.9 * len(data))]\n",
    ")"
   ]
  },
  {
   "attachments": {},
   "cell_type": "markdown",
   "id": "f81f65b9",
   "metadata": {},
   "source": [
    "We save these sets to a file."
   ]
  },
  {
   "cell_type": "code",
   "execution_count": 22,
   "id": "f849a7a9",
   "metadata": {},
   "outputs": [],
   "source": [
    "train_data.to_csv(\"train.csv\", index=False, header=False)\n",
    "validation_data.to_csv(\"validation.csv\", index=False, header=False)\n",
    "test_data.to_csv(\"test.csv\", index=False, header=True)"
   ]
  },
  {
   "attachments": {},
   "cell_type": "markdown",
   "id": "de669936",
   "metadata": {},
   "source": [
    "And upload these files to our s3 bucket"
   ]
  },
  {
   "cell_type": "code",
   "execution_count": 23,
   "id": "e1ca2543",
   "metadata": {},
   "outputs": [],
   "source": [
    "boto3.Session().resource(\"s3\").Bucket(s3_bucket).Object(\n",
    "    os.path.join(bucket_prefix, \"train/train.csv\")\n",
    ").upload_file(\"train.csv\")\n",
    "boto3.Session().resource(\"s3\").Bucket(s3_bucket).Object(\n",
    "    os.path.join(bucket_prefix, \"validation/validation.csv\")\n",
    ").upload_file(\"validation.csv\")\n",
    "boto3.Session().resource(\"s3\").Bucket(s3_bucket).Object(\n",
    "    os.path.join(bucket_prefix, \"test/test.csv\")\n",
    ").upload_file(\"test.csv\")"
   ]
  },
  {
   "attachments": {},
   "cell_type": "markdown",
   "id": "22de532f",
   "metadata": {},
   "source": [
    "Get the XGBoost sagemaker image"
   ]
  },
  {
   "cell_type": "code",
   "execution_count": 24,
   "id": "a41b6a7d",
   "metadata": {},
   "outputs": [],
   "source": [
    "container = sagemaker.image_uris.retrieve(region=region, framework=\"xgboost\", version=\"1.2-2\")"
   ]
  },
  {
   "attachments": {},
   "cell_type": "markdown",
   "id": "66cae2a9",
   "metadata": {},
   "source": [
    "Transform our data to a sagemaker input for training"
   ]
  },
  {
   "cell_type": "code",
   "execution_count": 25,
   "id": "e51c917a",
   "metadata": {},
   "outputs": [],
   "source": [
    "s3_input_train = sagemaker.inputs.TrainingInput(\n",
    "    s3_data=\"s3://{}/{}/train\".format(s3_bucket, bucket_prefix), content_type=\"csv\"\n",
    ")\n",
    "s3_input_validation = sagemaker.inputs.TrainingInput(\n",
    "    s3_data=\"s3://{}/{}/validation/\".format(s3_bucket, bucket_prefix), content_type=\"csv\"\n",
    ")"
   ]
  },
  {
   "attachments": {},
   "cell_type": "markdown",
   "id": "6f2985d8",
   "metadata": {},
   "source": [
    "We define the XGBoost model"
   ]
  },
  {
   "cell_type": "code",
   "execution_count": 26,
   "id": "92c1fe8c",
   "metadata": {},
   "outputs": [],
   "source": [
    "xgb = sagemaker.estimator.Estimator(\n",
    "    container,\n",
    "    role,\n",
    "    instance_count=1,\n",
    "    instance_type=\"ml.m4.xlarge\",\n",
    "    output_path=\"s3://{}/{}/output\".format(s3_bucket, bucket_prefix),\n",
    "    sagemaker_session=sagemaker_session,\n",
    ")"
   ]
  },
  {
   "attachments": {},
   "cell_type": "markdown",
   "id": "ecafdfe8",
   "metadata": {},
   "source": [
    "Set the parameters"
   ]
  },
  {
   "cell_type": "code",
   "execution_count": 27,
   "id": "582adc6c",
   "metadata": {},
   "outputs": [],
   "source": [
    "xgb.set_hyperparameters(\n",
    "    max_depth=5,\n",
    "    eta=0.2,\n",
    "    gamma=4,\n",
    "    min_child_weight=6,\n",
    "    subsample=0.8,\n",
    "    objective=\"multi:softprob\",\n",
    "    num_class=19,\n",
    "    verbosity=0,\n",
    "    num_round=100,\n",
    ")"
   ]
  },
  {
   "attachments": {},
   "cell_type": "markdown",
   "id": "b36463dd",
   "metadata": {},
   "source": [
    "And train the model"
   ]
  },
  {
   "cell_type": "code",
   "execution_count": 28,
   "id": "c24e06fc",
   "metadata": {
    "scrolled": true
   },
   "outputs": [
    {
     "name": "stderr",
     "output_type": "stream",
     "text": [
      "INFO:sagemaker:Creating training-job with name: sagemaker-xgboost-2024-02-12-13-21-36-187\n"
     ]
    },
    {
     "name": "stdout",
     "output_type": "stream",
     "text": [
      "2024-02-12 13:21:36 Starting - Starting the training job...\n",
      "2024-02-12 13:21:52 Starting - Preparing the instances for training......\n",
      "2024-02-12 13:22:57 Downloading - Downloading input data......\n",
      "2024-02-12 13:23:37 Downloading - Downloading the training image...\n",
      "2024-02-12 13:24:23 Training - Training image download completed. Training in progress....\u001b[34m[2024-02-12 13:24:37.269 ip-10-0-177-37.us-east-2.compute.internal:7 INFO utils.py:27] RULE_JOB_STOP_SIGNAL_FILENAME: None\u001b[0m\n",
      "\u001b[34m[2024-02-12:13:24:37:INFO] Imported framework sagemaker_xgboost_container.training\u001b[0m\n",
      "\u001b[34m[2024-02-12:13:24:37:INFO] Failed to parse hyperparameter objective value multi:softprob to Json.\u001b[0m\n",
      "\u001b[34mReturning the value itself\u001b[0m\n",
      "\u001b[34m[2024-02-12:13:24:37:INFO] No GPUs detected (normal if no gpus installed)\u001b[0m\n",
      "\u001b[34m[2024-02-12:13:24:37:INFO] Running XGBoost Sagemaker in algorithm mode\u001b[0m\n",
      "\u001b[34m[2024-02-12:13:24:37:INFO] Determined delimiter of CSV input is ','\u001b[0m\n",
      "\u001b[34m[2024-02-12:13:24:37:INFO] Determined delimiter of CSV input is ','\u001b[0m\n",
      "\u001b[34m[2024-02-12:13:24:37:INFO] Determined delimiter of CSV input is ','\u001b[0m\n",
      "\u001b[34m[2024-02-12:13:24:37:INFO] Determined delimiter of CSV input is ','\u001b[0m\n",
      "\u001b[34m[2024-02-12:13:24:37:INFO] Single node training.\u001b[0m\n",
      "\u001b[34m[2024-02-12:13:24:37:INFO] Train matrix has 69997 rows and 28 columns\u001b[0m\n",
      "\u001b[34m[2024-02-12:13:24:37:INFO] Validation matrix has 20000 rows\u001b[0m\n",
      "\u001b[34m[2024-02-12 13:24:37.624 ip-10-0-177-37.us-east-2.compute.internal:7 INFO json_config.py:91] Creating hook from json_config at /opt/ml/input/config/debughookconfig.json.\u001b[0m\n",
      "\u001b[34m[2024-02-12 13:24:37.624 ip-10-0-177-37.us-east-2.compute.internal:7 INFO hook.py:201] tensorboard_dir has not been set for the hook. SMDebug will not be exporting tensorboard summaries.\u001b[0m\n",
      "\u001b[34m[2024-02-12 13:24:37.625 ip-10-0-177-37.us-east-2.compute.internal:7 INFO profiler_config_parser.py:102] User has disabled profiler.\u001b[0m\n",
      "\u001b[34m[2024-02-12 13:24:37.625 ip-10-0-177-37.us-east-2.compute.internal:7 INFO hook.py:255] Saving to /opt/ml/output/tensors\u001b[0m\n",
      "\u001b[34m[2024-02-12 13:24:37.626 ip-10-0-177-37.us-east-2.compute.internal:7 INFO state_store.py:77] The checkpoint config file /opt/ml/input/config/checkpointconfig.json does not exist.\u001b[0m\n",
      "\u001b[34m[2024-02-12:13:24:37:INFO] Debug hook created from config\u001b[0m\n",
      "\u001b[34m[0]#011train-merror:0.54809#011validation-merror:0.56205\u001b[0m\n",
      "\u001b[34m[2024-02-12 13:24:39.418 ip-10-0-177-37.us-east-2.compute.internal:7 INFO hook.py:423] Monitoring the collections: metrics\u001b[0m\n",
      "\u001b[34m[2024-02-12 13:24:39.421 ip-10-0-177-37.us-east-2.compute.internal:7 INFO hook.py:486] Hook is writing from the hook with pid: 7\u001b[0m\n",
      "\u001b[34m[1]#011train-merror:0.52881#011validation-merror:0.54025\u001b[0m\n",
      "\u001b[34m[2]#011train-merror:0.51631#011validation-merror:0.53010\u001b[0m\n",
      "\u001b[34m[3]#011train-merror:0.50496#011validation-merror:0.52125\u001b[0m\n",
      "\u001b[34m[4]#011train-merror:0.49649#011validation-merror:0.51125\u001b[0m\n",
      "\u001b[34m[5]#011train-merror:0.49515#011validation-merror:0.51135\u001b[0m\n",
      "\u001b[34m[6]#011train-merror:0.49075#011validation-merror:0.50570\u001b[0m\n",
      "\u001b[34m[7]#011train-merror:0.48436#011validation-merror:0.50025\u001b[0m\n",
      "\u001b[34m[8]#011train-merror:0.47908#011validation-merror:0.49355\u001b[0m\n",
      "\u001b[34m[9]#011train-merror:0.47491#011validation-merror:0.48925\u001b[0m\n",
      "\u001b[34m[10]#011train-merror:0.47348#011validation-merror:0.48725\u001b[0m\n",
      "\u001b[34m[11]#011train-merror:0.47023#011validation-merror:0.48375\u001b[0m\n",
      "\u001b[34m[12]#011train-merror:0.46452#011validation-merror:0.47650\u001b[0m\n",
      "\u001b[34m[13]#011train-merror:0.45632#011validation-merror:0.46575\u001b[0m\n",
      "\u001b[34m[14]#011train-merror:0.45106#011validation-merror:0.46095\u001b[0m\n",
      "\u001b[34m[15]#011train-merror:0.44463#011validation-merror:0.45505\u001b[0m\n",
      "\u001b[34m[16]#011train-merror:0.44115#011validation-merror:0.45115\u001b[0m\n",
      "\u001b[34m[17]#011train-merror:0.43572#011validation-merror:0.44560\u001b[0m\n",
      "\u001b[34m[18]#011train-merror:0.43310#011validation-merror:0.44285\u001b[0m\n",
      "\u001b[34m[19]#011train-merror:0.42675#011validation-merror:0.43620\u001b[0m\n",
      "\u001b[34m[20]#011train-merror:0.41697#011validation-merror:0.42690\u001b[0m\n",
      "\u001b[34m[21]#011train-merror:0.40773#011validation-merror:0.41710\u001b[0m\n",
      "\u001b[34m[22]#011train-merror:0.39490#011validation-merror:0.40325\u001b[0m\n",
      "\u001b[34m[23]#011train-merror:0.38994#011validation-merror:0.39810\u001b[0m\n",
      "\u001b[34m[24]#011train-merror:0.38683#011validation-merror:0.39415\u001b[0m\n",
      "\u001b[34m[25]#011train-merror:0.37924#011validation-merror:0.38710\u001b[0m\n",
      "\u001b[34m[26]#011train-merror:0.37102#011validation-merror:0.37915\u001b[0m\n",
      "\u001b[34m[27]#011train-merror:0.36164#011validation-merror:0.36975\u001b[0m\n",
      "\u001b[34m[28]#011train-merror:0.35730#011validation-merror:0.36610\u001b[0m\n",
      "\u001b[34m[29]#011train-merror:0.35083#011validation-merror:0.36000\u001b[0m\n",
      "\u001b[34m[30]#011train-merror:0.34436#011validation-merror:0.35325\u001b[0m\n",
      "\u001b[34m[31]#011train-merror:0.33466#011validation-merror:0.34165\u001b[0m\n",
      "\u001b[34m[32]#011train-merror:0.32956#011validation-merror:0.33610\u001b[0m\n",
      "\u001b[34m[33]#011train-merror:0.32551#011validation-merror:0.33195\u001b[0m\n",
      "\u001b[34m[34]#011train-merror:0.31620#011validation-merror:0.32330\u001b[0m\n",
      "\u001b[34m[35]#011train-merror:0.31168#011validation-merror:0.31940\u001b[0m\n",
      "\u001b[34m[36]#011train-merror:0.30877#011validation-merror:0.31530\u001b[0m\n",
      "\u001b[34m[37]#011train-merror:0.30557#011validation-merror:0.31230\u001b[0m\n",
      "\u001b[34m[38]#011train-merror:0.29613#011validation-merror:0.30190\u001b[0m\n",
      "\u001b[34m[39]#011train-merror:0.29147#011validation-merror:0.29620\u001b[0m\n",
      "\u001b[34m[40]#011train-merror:0.28283#011validation-merror:0.28695\u001b[0m\n",
      "\u001b[34m[41]#011train-merror:0.27641#011validation-merror:0.28100\u001b[0m\n",
      "\u001b[34m[42]#011train-merror:0.27238#011validation-merror:0.27690\u001b[0m\n",
      "\u001b[34m[43]#011train-merror:0.26728#011validation-merror:0.27205\u001b[0m\n",
      "\u001b[34m[44]#011train-merror:0.26151#011validation-merror:0.26660\u001b[0m\n",
      "\u001b[34m[45]#011train-merror:0.25514#011validation-merror:0.25815\u001b[0m\n",
      "\u001b[34m[46]#011train-merror:0.25094#011validation-merror:0.25390\u001b[0m\n",
      "\u001b[34m[47]#011train-merror:0.24552#011validation-merror:0.24770\u001b[0m\n",
      "\u001b[34m[48]#011train-merror:0.24063#011validation-merror:0.24275\u001b[0m\n",
      "\u001b[34m[49]#011train-merror:0.23564#011validation-merror:0.23870\u001b[0m\n",
      "\u001b[34m[50]#011train-merror:0.23431#011validation-merror:0.23740\u001b[0m\n",
      "\u001b[34m[51]#011train-merror:0.22709#011validation-merror:0.23020\u001b[0m\n",
      "\u001b[34m[52]#011train-merror:0.22091#011validation-merror:0.22380\u001b[0m\n",
      "\u001b[34m[53]#011train-merror:0.21611#011validation-merror:0.21880\u001b[0m\n",
      "\u001b[34m[54]#011train-merror:0.20878#011validation-merror:0.21190\u001b[0m\n",
      "\u001b[34m[55]#011train-merror:0.20377#011validation-merror:0.20710\u001b[0m\n",
      "\u001b[34m[56]#011train-merror:0.20087#011validation-merror:0.20430\u001b[0m\n",
      "\u001b[34m[57]#011train-merror:0.19719#011validation-merror:0.20015\u001b[0m\n",
      "\u001b[34m[58]#011train-merror:0.19445#011validation-merror:0.19750\u001b[0m\n",
      "\u001b[34m[59]#011train-merror:0.19131#011validation-merror:0.19420\u001b[0m\n",
      "\u001b[34m[60]#011train-merror:0.18908#011validation-merror:0.19210\u001b[0m\n",
      "\u001b[34m[61]#011train-merror:0.18516#011validation-merror:0.18885\u001b[0m\n",
      "\u001b[34m[62]#011train-merror:0.18132#011validation-merror:0.18475\u001b[0m\n",
      "\u001b[34m[63]#011train-merror:0.17795#011validation-merror:0.18185\u001b[0m\n",
      "\u001b[34m[64]#011train-merror:0.17456#011validation-merror:0.17820\u001b[0m\n",
      "\u001b[34m[65]#011train-merror:0.17232#011validation-merror:0.17655\u001b[0m\n",
      "\u001b[34m[66]#011train-merror:0.16769#011validation-merror:0.17095\u001b[0m\n",
      "\u001b[34m[67]#011train-merror:0.16395#011validation-merror:0.16710\u001b[0m\n",
      "\u001b[34m[68]#011train-merror:0.16091#011validation-merror:0.16495\u001b[0m\n",
      "\u001b[34m[69]#011train-merror:0.15839#011validation-merror:0.16225\u001b[0m\n",
      "\u001b[34m[70]#011train-merror:0.15706#011validation-merror:0.16140\u001b[0m\n",
      "\u001b[34m[71]#011train-merror:0.15382#011validation-merror:0.15725\u001b[0m\n",
      "\u001b[34m[72]#011train-merror:0.15138#011validation-merror:0.15495\u001b[0m\n",
      "\u001b[34m[73]#011train-merror:0.14889#011validation-merror:0.15315\u001b[0m\n",
      "\u001b[34m[74]#011train-merror:0.14601#011validation-merror:0.14925\u001b[0m\n",
      "\u001b[34m[75]#011train-merror:0.14246#011validation-merror:0.14550\u001b[0m\n",
      "\u001b[34m[76]#011train-merror:0.13822#011validation-merror:0.14125\u001b[0m\n",
      "\u001b[34m[77]#011train-merror:0.13733#011validation-merror:0.14060\u001b[0m\n",
      "\u001b[34m[78]#011train-merror:0.13628#011validation-merror:0.13935\u001b[0m\n",
      "\u001b[34m[79]#011train-merror:0.13438#011validation-merror:0.13840\u001b[0m\n",
      "\u001b[34m[80]#011train-merror:0.13035#011validation-merror:0.13430\u001b[0m\n",
      "\u001b[34m[81]#011train-merror:0.12919#011validation-merror:0.13325\u001b[0m\n",
      "\u001b[34m[82]#011train-merror:0.12453#011validation-merror:0.12970\u001b[0m\n",
      "\u001b[34m[83]#011train-merror:0.12369#011validation-merror:0.12905\u001b[0m\n",
      "\u001b[34m[84]#011train-merror:0.12163#011validation-merror:0.12690\u001b[0m\n",
      "\u001b[34m[85]#011train-merror:0.12063#011validation-merror:0.12595\u001b[0m\n",
      "\u001b[34m[86]#011train-merror:0.11888#011validation-merror:0.12405\u001b[0m\n",
      "\u001b[34m[87]#011train-merror:0.11849#011validation-merror:0.12330\u001b[0m\n",
      "\u001b[34m[88]#011train-merror:0.11685#011validation-merror:0.12215\u001b[0m\n",
      "\u001b[34m[89]#011train-merror:0.11521#011validation-merror:0.12095\u001b[0m\n",
      "\u001b[34m[90]#011train-merror:0.11383#011validation-merror:0.11945\u001b[0m\n",
      "\u001b[34m[91]#011train-merror:0.11163#011validation-merror:0.11725\u001b[0m\n",
      "\u001b[34m[92]#011train-merror:0.11035#011validation-merror:0.11615\u001b[0m\n",
      "\u001b[34m[93]#011train-merror:0.10860#011validation-merror:0.11480\u001b[0m\n",
      "\u001b[34m[94]#011train-merror:0.10619#011validation-merror:0.11245\u001b[0m\n",
      "\u001b[34m[95]#011train-merror:0.10453#011validation-merror:0.11095\u001b[0m\n",
      "\u001b[34m[96]#011train-merror:0.10273#011validation-merror:0.10900\u001b[0m\n",
      "\u001b[34m[97]#011train-merror:0.10186#011validation-merror:0.10835\u001b[0m\n",
      "\u001b[34m[98]#011train-merror:0.10068#011validation-merror:0.10740\u001b[0m\n",
      "\n",
      "2024-02-12 13:27:29 Uploading - Uploading generated training model\u001b[34m[99]#011train-merror:0.09996#011validation-merror:0.10595\u001b[0m\n",
      "\n",
      "2024-02-12 13:27:40 Completed - Training job completed\n",
      "Training seconds: 282\n",
      "Billable seconds: 282\n"
     ]
    }
   ],
   "source": [
    "xgb.fit({\"train\": s3_input_train, \"validation\": s3_input_validation})"
   ]
  },
  {
   "attachments": {},
   "cell_type": "markdown",
   "id": "8b716cd7",
   "metadata": {},
   "source": [
    "### 5. Using the endpoint <a class=\"anchor\" id=\"Using-the-endpoint\"></a>\n",
    "\n",
    "Deploy the model to an endpoint"
   ]
  },
  {
   "cell_type": "code",
   "execution_count": 29,
   "id": "ded8301b-2523-4ad7-bba2-30e0ca748253",
   "metadata": {},
   "outputs": [
    {
     "name": "stdout",
     "output_type": "stream",
     "text": [
      "> 2024-02-12 13:28:20,985 [info] Project loaded successfully: {'project_name': 'sagemaker'}\n"
     ]
    }
   ],
   "source": [
    "project = mlrun.get_or_create_project(\n",
    "    name=\"sagemaker\", \n",
    "    user_project=True,\n",
    "    parameters={\n",
    "        # \"source\" : \"git://github.com/mlrun/demo-sagemaker#main\",\n",
    "        \"default_image\" : \"yonishelach/sagemaker-demo\"\n",
    "    }\n",
    ")"
   ]
  },
  {
   "cell_type": "code",
   "execution_count": 30,
   "id": "fcb620d5-0697-4860-adc3-2696a9e1fa66",
   "metadata": {},
   "outputs": [],
   "source": [
    "serving_function = project.get_function(\"serving\")"
   ]
  },
  {
   "cell_type": "code",
   "execution_count": 31,
   "id": "e1b53d0c-baee-45f3-be07-6c02af75a6c8",
   "metadata": {},
   "outputs": [
    {
     "data": {
      "image/svg+xml": [
       "<?xml version=\"1.0\" encoding=\"UTF-8\" standalone=\"no\"?>\n",
       "<!DOCTYPE svg PUBLIC \"-//W3C//DTD SVG 1.1//EN\"\n",
       " \"http://www.w3.org/Graphics/SVG/1.1/DTD/svg11.dtd\">\n",
       "<!-- Generated by graphviz version 8.1.0 (20230707.2238)\n",
       " -->\n",
       "<!-- Title: mlrun&#45;flow Pages: 1 -->\n",
       "<svg width=\"409pt\" height=\"44pt\"\n",
       " viewBox=\"0.00 0.00 408.65 44.00\" xmlns=\"http://www.w3.org/2000/svg\" xmlns:xlink=\"http://www.w3.org/1999/xlink\">\n",
       "<g id=\"graph0\" class=\"graph\" transform=\"scale(1 1) rotate(0) translate(4 40)\">\n",
       "<title>mlrun&#45;flow</title>\n",
       "<polygon fill=\"white\" stroke=\"none\" points=\"-4,4 -4,-40 404.65,-40 404.65,4 -4,4\"/>\n",
       "<!-- _start -->\n",
       "<g id=\"node1\" class=\"node\">\n",
       "<title>_start</title>\n",
       "<polygon fill=\"lightgrey\" stroke=\"black\" points=\"38.51,-0.05 40.67,-0.15 42.81,-0.3 44.91,-0.49 46.98,-0.74 49,-1.03 50.96,-1.36 52.86,-1.75 54.69,-2.18 56.44,-2.65 58.11,-3.16 59.69,-3.71 61.17,-4.31 62.55,-4.94 63.83,-5.61 65.01,-6.31 66.07,-7.04 67.02,-7.8 67.85,-8.59 68.58,-9.41 69.18,-10.25 69.67,-11.11 70.05,-11.99 70.31,-12.89 70.46,-13.8 70.5,-14.72 70.43,-15.65 70.26,-16.59 69.99,-17.53 69.62,-18.47 69.16,-19.41 68.61,-20.35 67.98,-21.28 67.27,-22.2 66.48,-23.11 65.62,-24.01 64.7,-24.89 63.72,-25.75 62.68,-26.59 61.59,-27.41 60.46,-28.2 59.28,-28.96 58.07,-29.69 56.82,-30.39 55.54,-31.06 54.23,-31.69 52.9,-32.29 51.55,-32.84 50.18,-33.35 48.8,-33.82 47.4,-34.25 45.99,-34.64 44.58,-34.97 43.15,-35.26 41.72,-35.51 40.29,-35.7 38.85,-35.85 37.41,-35.95 35.97,-36 34.53,-36 33.09,-35.95 31.65,-35.85 30.21,-35.7 28.77,-35.51 27.34,-35.26 25.92,-34.97 24.5,-34.64 23.1,-34.25 21.7,-33.82 20.32,-33.35 18.95,-32.84 17.6,-32.29 16.27,-31.69 14.96,-31.06 13.68,-30.39 12.43,-29.69 11.22,-28.96 10.04,-28.2 8.9,-27.41 7.82,-26.59 6.78,-25.75 5.8,-24.89 4.87,-24.01 4.02,-23.11 3.23,-22.2 2.52,-21.28 1.89,-20.35 1.34,-19.41 0.88,-18.47 0.51,-17.53 0.24,-16.59 0.07,-15.65 0,-14.72 0.04,-13.8 0.19,-12.89 0.45,-11.99 0.83,-11.11 1.32,-10.25 1.92,-9.41 2.64,-8.59 3.48,-7.8 4.43,-7.04 5.49,-6.31 6.67,-5.61 7.95,-4.94 9.33,-4.31 10.81,-3.71 12.39,-3.16 14.06,-2.65 15.81,-2.18 17.64,-1.75 19.54,-1.36 21.5,-1.03 23.52,-0.74 25.58,-0.49 27.69,-0.3 29.83,-0.15 31.99,-0.05 34.16,0 36.34,0 38.51,-0.05\"/>\n",
       "<text text-anchor=\"middle\" x=\"35.25\" y=\"-12.57\" font-family=\"Times,serif\" font-size=\"14.00\">start</text>\n",
       "</g>\n",
       "<!-- xgboost&#45;model -->\n",
       "<g id=\"node2\" class=\"node\">\n",
       "<title>xgboost&#45;model</title>\n",
       "<ellipse fill=\"none\" stroke=\"black\" cx=\"175.53\" cy=\"-18\" rx=\"69.03\" ry=\"18\"/>\n",
       "<text text-anchor=\"middle\" x=\"175.53\" y=\"-12.57\" font-family=\"Times,serif\" font-size=\"14.00\">xgboost&#45;model</text>\n",
       "</g>\n",
       "<!-- _start&#45;&gt;xgboost&#45;model -->\n",
       "<g id=\"edge1\" class=\"edge\">\n",
       "<title>_start&#45;&gt;xgboost&#45;model</title>\n",
       "<path fill=\"none\" stroke=\"black\" d=\"M70.08,-18C77.86,-18 86.47,-18 95.3,-18\"/>\n",
       "<polygon fill=\"black\" stroke=\"black\" points=\"95.14,-21.5 105.14,-18 95.14,-14.5 95.14,-21.5\"/>\n",
       "</g>\n",
       "<!-- postprocess -->\n",
       "<g id=\"node3\" class=\"node\">\n",
       "<title>postprocess</title>\n",
       "<ellipse fill=\"none\" stroke=\"black\" cx=\"340.6\" cy=\"-18\" rx=\"60.05\" ry=\"18\"/>\n",
       "<text text-anchor=\"middle\" x=\"340.6\" y=\"-12.57\" font-family=\"Times,serif\" font-size=\"14.00\">postprocess</text>\n",
       "</g>\n",
       "<!-- xgboost&#45;model&#45;&gt;postprocess -->\n",
       "<g id=\"edge2\" class=\"edge\">\n",
       "<title>xgboost&#45;model&#45;&gt;postprocess</title>\n",
       "<path fill=\"none\" stroke=\"black\" d=\"M244.74,-18C252.84,-18 261.12,-18 269.25,-18\"/>\n",
       "<polygon fill=\"black\" stroke=\"black\" points=\"269.21,-21.5 279.21,-18 269.21,-14.5 269.21,-21.5\"/>\n",
       "</g>\n",
       "</g>\n",
       "</svg>\n"
      ],
      "text/plain": [
       "<graphviz.graphs.Digraph at 0x7f70dbdde1f0>"
      ]
     },
     "execution_count": 31,
     "metadata": {},
     "output_type": "execute_result"
    }
   ],
   "source": [
    "# Set the topology and get the graph object:\n",
    "graph = serving_function.set_topology(\"flow\", engine=\"async\")\n",
    "\n",
    "# Add the steps:\n",
    "graph.to(\"XGBModelServer\",\n",
    "         name=\"xgboost-model\",\n",
    "         model_path=xgb.model_data) \\\n",
    "     .to(handler=\"postprocess\", name=\"postprocess\").respond()\n",
    "\n",
    "# Plot to graph:\n",
    "serving_function.plot(rankdir='LR')"
   ]
  },
  {
   "cell_type": "code",
   "execution_count": 32,
   "id": "2963f0b2-5169-4138-aefb-cef8813b0e0e",
   "metadata": {},
   "outputs": [
    {
     "name": "stdout",
     "output_type": "stream",
     "text": [
      "> 2024-02-12 13:28:21,518 [info] model xgboost-model was loaded\n"
     ]
    }
   ],
   "source": [
    "server = serving_function.to_mock_server()"
   ]
  },
  {
   "cell_type": "code",
   "execution_count": 33,
   "id": "ffa8dda2-ce3d-459c-8a93-f7ebaee7b7f8",
   "metadata": {},
   "outputs": [],
   "source": [
    "samples = test_data.drop('transaction_category',axis=1)[:500].values.tolist()"
   ]
  },
  {
   "cell_type": "code",
   "execution_count": 34,
   "id": "093d87f6-312f-452b-8e7d-1bd613e189ed",
   "metadata": {},
   "outputs": [
    {
     "name": "stdout",
     "output_type": "stream",
     "text": [
      "> 2024-02-12 13:28:21,593 [info] Invoking function: {'method': 'POST', 'path': 'http://sagemaker-admin-serving-sagemaker-admin.default-tenant.app.cust-cs-il-353.iguazio-cd2.com//predict'}\n"
     ]
    }
   ],
   "source": [
    "response = serving_function.invoke(path='/predict', body={\"inputs\": samples})"
   ]
  },
  {
   "cell_type": "code",
   "execution_count": 35,
   "id": "a70a144b-f9cd-4e2e-b1e3-16163b56835a",
   "metadata": {},
   "outputs": [
    {
     "name": "stdout",
     "output_type": "stream",
     "text": [
      "[1, 1, 11, 3, 1, 3, 3, 5, 1, 1, 3, 3, 17, 7, 2, 13, 9, 7, 3, 10, 1, 7, 1, 10, 10, 6, 3, 5, 3, 3, 1, 12, 9, 12, 6, 1, 10, 10, 10, 10, 1, 3, 3, 1, 3, 9, 1, 10, 3, 4, 3, 3, 10, 1, 3, 10, 3, 3, 17, 3, 6, 3, 3, 3, 3, 1, 3, 1, 1, 6, 3, 10, 3, 5, 1, 10, 3, 10, 10, 10, 10, 14, 1, 12, 3, 7, 1, 3, 12, 3, 10, 5, 3, 3, 1, 1, 6, 1, 10, 10, 3, 3, 1, 3, 3, 6, 3, 3, 3, 1, 10, 3, 3, 1, 5, 10, 1, 3, 1, 3, 10, 3, 3, 11, 12, 3, 3, 5, 1, 3, 3, 1, 3, 1, 10, 3, 1, 3, 3, 18, 13, 3, 1, 1, 10, 3, 1, 3, 1, 10, 6, 3, 10, 10, 3, 3, 3, 6, 1, 3, 10, 10, 1, 3, 17, 1, 3, 3, 3, 3, 17, 3, 3, 7, 3, 6, 10, 3, 3, 3, 10, 3, 6, 3, 3, 10, 11, 10, 10, 1, 10, 10, 5, 12, 5, 13, 3, 10, 3, 3, 5, 1, 9, 1, 3, 9, 3, 10, 10, 10, 9, 3, 3, 3, 10, 1, 2, 1, 1, 6, 3, 1, 6, 6, 7, 10, 10, 3, 3, 6, 1, 9, 3, 3, 3, 3, 10, 3, 6, 10, 1, 3, 17, 1, 0, 10, 3, 9, 17, 2, 1, 10, 3, 3, 3, 10, 6, 3, 3, 3, 3, 3, 14, 1, 3, 6, 10, 1, 3, 3, 1, 3, 10, 3, 3, 10, 7, 10, 10, 10, 18, 5, 13, 3, 10, 3, 10, 3, 3, 3, 10, 1, 5, 3, 1, 3, 1, 3, 3, 5, 3, 1, 3, 3, 1, 10, 18, 6, 3, 3, 10, 3, 3, 1, 7, 3, 1, 3, 6, 1, 9, 3, 3, 3, 10, 10, 3, 17, 3, 1, 10, 1, 10, 15, 1, 3, 3, 1, 1, 14, 11, 9, 10, 10, 6, 1, 4, 1, 3, 17, 3, 3, 3, 1, 6, 14, 3, 3, 9, 1, 10, 6, 5, 3, 13, 3, 1, 3, 3, 6, 3, 17, 13, 17, 12, 1, 1, 10, 13, 5, 3, 3, 3, 3, 10, 13, 18, 3, 3, 3, 3, 10, 10, 3, 8, 1, 3, 9, 3, 10, 3, 1, 10, 10, 1, 3, 3, 3, 10, 1, 1, 3, 7, 1, 10, 6, 3, 3, 3, 3, 3, 3, 9, 10, 3, 10, 9, 3, 3, 17, 10, 3, 7, 1, 1, 3, 1, 17, 7, 3, 3, 3, 3, 9, 3, 3, 1, 10, 10, 3, 3, 1, 7, 10, 10, 10, 12, 6, 3, 6, 16, 10, 3, 1, 18, 8, 10, 6, 10, 17, 6, 1, 10, 1, 3, 10, 1, 3, 3, 10, 3, 10, 3, 3, 5, 7, 6, 3, 6, 5, 3, 3, 3, 3, 2, 10, 12, 9, 1, 3]\n"
     ]
    }
   ],
   "source": [
    "print(response['predictions'])"
   ]
  },
  {
   "cell_type": "code",
   "execution_count": 36,
   "id": "815fd915-e8ff-455a-a16b-dbf470f8d825",
   "metadata": {},
   "outputs": [
    {
     "name": "stdout",
     "output_type": "stream",
     "text": [
      "> 2024-02-12 13:28:21,673 [info] Starting remote function deploy\n",
      "2024-02-12 13:28:22  (info) Deploying function\n",
      "2024-02-12 13:28:22  (info) Building\n",
      "2024-02-12 13:28:22  (info) Staging files and preparing base images\n",
      "2024-02-12 13:28:22  (info) Building processor image\n",
      "2024-02-12 13:29:27  (info) Build complete\n",
      "2024-02-12 13:29:36  (info) Function deploy complete\n",
      "> 2024-02-12 13:29:43,324 [info] Successfully deployed function: {'internal_invocation_urls': ['nuclio-sagemaker-admin-serving.default-tenant.svc.cluster.local:8080'], 'external_invocation_urls': ['sagemaker-admin-serving-sagemaker-admin.default-tenant.app.cust-cs-il-353.iguazio-cd2.com/']}\n"
     ]
    },
    {
     "data": {
      "text/plain": [
       "DeployStatus(state=ready, outputs={'endpoint': 'http://sagemaker-admin-serving-sagemaker-admin.default-tenant.app.cust-cs-il-353.iguazio-cd2.com/', 'name': 'sagemaker-admin-serving'})"
      ]
     },
     "execution_count": 36,
     "metadata": {},
     "output_type": "execute_result"
    }
   ],
   "source": [
    "project.deploy_function(\"serving\")"
   ]
  },
  {
   "cell_type": "code",
   "execution_count": 37,
   "id": "0bd727dc-7243-4d0c-94b7-91dcaeca3fae",
   "metadata": {},
   "outputs": [
    {
     "name": "stdout",
     "output_type": "stream",
     "text": [
      "> 2024-02-12 13:29:43,392 [info] Invoking function: {'method': 'POST', 'path': 'http://sagemaker-admin-serving-sagemaker-admin.default-tenant.app.cust-cs-il-353.iguazio-cd2.com//predict'}\n"
     ]
    }
   ],
   "source": [
    "response = serving_function.invoke(path='/predict', body={\"inputs\": samples})"
   ]
  },
  {
   "cell_type": "code",
   "execution_count": 38,
   "id": "b6e22e08-9fa3-4fc9-a084-652edf9fdfb7",
   "metadata": {},
   "outputs": [
    {
     "name": "stdout",
     "output_type": "stream",
     "text": [
      "[1, 1, 11, 3, 1, 3, 3, 5, 1, 1, 3, 3, 17, 7, 2, 13, 9, 7, 3, 10, 1, 7, 1, 10, 10, 6, 3, 5, 3, 3, 1, 12, 9, 12, 6, 1, 10, 10, 10, 10, 1, 3, 3, 1, 3, 9, 1, 10, 3, 4, 3, 3, 10, 1, 3, 10, 3, 3, 17, 3, 6, 3, 3, 3, 3, 1, 3, 1, 1, 6, 3, 10, 3, 5, 1, 10, 3, 10, 10, 10, 10, 14, 1, 12, 3, 7, 1, 3, 12, 3, 10, 5, 3, 3, 1, 1, 6, 1, 10, 10, 3, 3, 1, 3, 3, 6, 3, 3, 3, 1, 10, 3, 3, 1, 5, 10, 1, 3, 1, 3, 10, 3, 3, 11, 12, 3, 3, 5, 1, 3, 3, 1, 3, 1, 10, 3, 1, 3, 3, 18, 13, 3, 1, 1, 10, 3, 1, 3, 1, 10, 6, 3, 10, 10, 3, 3, 3, 6, 1, 3, 10, 10, 1, 3, 17, 1, 3, 3, 3, 3, 17, 3, 3, 7, 3, 6, 10, 3, 3, 3, 10, 3, 6, 3, 3, 10, 11, 10, 10, 1, 10, 10, 5, 12, 5, 13, 3, 10, 3, 3, 5, 1, 9, 1, 3, 9, 3, 10, 10, 10, 9, 3, 3, 3, 10, 1, 2, 1, 1, 6, 3, 1, 6, 6, 7, 10, 10, 3, 3, 6, 1, 9, 3, 3, 3, 3, 10, 3, 6, 10, 1, 3, 17, 1, 0, 10, 3, 9, 17, 2, 1, 10, 3, 3, 3, 10, 6, 3, 3, 3, 3, 3, 14, 1, 3, 6, 10, 1, 3, 3, 1, 3, 10, 3, 3, 10, 7, 10, 10, 10, 18, 5, 13, 3, 10, 3, 10, 3, 3, 3, 10, 1, 5, 3, 1, 3, 1, 3, 3, 5, 3, 1, 3, 3, 1, 10, 18, 6, 3, 3, 10, 3, 3, 1, 7, 3, 1, 3, 6, 1, 9, 3, 3, 3, 10, 10, 3, 17, 3, 1, 10, 1, 10, 15, 1, 3, 3, 1, 1, 14, 11, 9, 10, 10, 6, 1, 4, 1, 3, 17, 3, 3, 3, 1, 6, 14, 3, 3, 9, 1, 10, 6, 5, 3, 13, 3, 1, 3, 3, 6, 3, 17, 13, 17, 12, 1, 1, 10, 13, 5, 3, 3, 3, 3, 10, 13, 18, 3, 3, 3, 3, 10, 10, 3, 8, 1, 3, 9, 3, 10, 3, 1, 10, 10, 1, 3, 3, 3, 10, 1, 1, 3, 7, 1, 10, 6, 3, 3, 3, 3, 3, 3, 9, 10, 3, 10, 9, 3, 3, 17, 10, 3, 7, 1, 1, 3, 1, 17, 7, 3, 3, 3, 3, 9, 3, 3, 1, 10, 10, 3, 3, 1, 7, 10, 10, 10, 12, 6, 3, 6, 16, 10, 3, 1, 18, 8, 10, 6, 10, 17, 6, 1, 10, 1, 3, 10, 1, 3, 3, 10, 3, 10, 3, 3, 5, 7, 6, 3, 6, 5, 3, 3, 3, 3, 2, 10, 12, 9, 1, 3]\n"
     ]
    }
   ],
   "source": [
    "print(response['predictions'])"
   ]
  },
  {
   "cell_type": "markdown",
   "id": "7a93919f-da79-455c-a8c2-eab5deece6d9",
   "metadata": {},
   "source": [
    "### 6. Evaluate performance <a class=\"anchor\" id=\"Evaluate-performance\"></a>\n",
    "\n",
    "Run the model on our test data"
   ]
  },
  {
   "cell_type": "code",
   "execution_count": 39,
   "id": "6b6a92c2-09f2-4e4a-9c3a-1c005e231d1b",
   "metadata": {},
   "outputs": [],
   "source": [
    "s3_data = \"s3://{}/{}/test/test.csv\".format(s3_bucket, bucket_prefix)"
   ]
  },
  {
   "cell_type": "code",
   "execution_count": 40,
   "id": "84c6a5b7",
   "metadata": {},
   "outputs": [],
   "source": [
    "evaluate_function = project.get_function(\"evaluate\")"
   ]
  },
  {
   "cell_type": "code",
   "execution_count": 41,
   "id": "cdb2def1-c771-4757-a581-41c0014f2678",
   "metadata": {},
   "outputs": [
    {
     "data": {
      "text/plain": [
       "'s3://sagemaker-us-east-2-934638699319/payment-classification/output/sagemaker-xgboost-2024-02-12-13-21-36-187/output/model.tar.gz'"
      ]
     },
     "execution_count": 41,
     "metadata": {},
     "output_type": "execute_result"
    }
   ],
   "source": [
    "xgb.model_data"
   ]
  },
  {
   "cell_type": "code",
   "execution_count": 42,
   "id": "fe92026c-c9e3-4e06-8b75-894db62f8f6a",
   "metadata": {},
   "outputs": [
    {
     "data": {
      "text/plain": [
       "'s3://sagemaker-us-east-2-934638699319/payment-classification/test/test.csv'"
      ]
     },
     "execution_count": 42,
     "metadata": {},
     "output_type": "execute_result"
    }
   ],
   "source": [
    "s3_data"
   ]
  },
  {
   "cell_type": "code",
   "execution_count": 43,
   "id": "62b14992-24db-4be2-bcb3-dbd115fa7544",
   "metadata": {},
   "outputs": [
    {
     "name": "stdout",
     "output_type": "stream",
     "text": [
      "> 2024-02-12 13:29:43,661 [info] Storing function: {'name': 'evaluate-evaluate', 'uid': '676e68621dd34bcd89b138f74954a4d5', 'db': 'https://mlrun-api.default-tenant.app.cust-cs-il-353.iguazio-cd2.com'}\n",
      "> 2024-02-12 13:29:44,057 [info] Job is running in the background, pod: evaluate-evaluate-bdkpj\n",
      "[13:29:48] WARNING: /workspace/src/common/error_msg.h:80: If you are loading a serialized model (like pickle in Python, RDS in R) or\n",
      "configuration generated by an older version of XGBoost, please export the model by calling\n",
      "`Booster.save_model` from that version first, then load it back in current version. See:\n",
      "\n",
      "    https://xgboost.readthedocs.io/en/stable/tutorials/saving_model.html\n",
      "\n",
      "for more details about differences between saving model and serializing.\n",
      "\n",
      "      transaction_category   receiver_id  ...     17_dist     18_dist\n",
      "0                        3  4.630518e+15  ...  714.212199  138.277151\n",
      "1                        1  4.558838e+15  ...  761.252199  185.317151\n",
      "2                        8  4.542379e+15  ...  177.982199  397.952849\n",
      "3                        3  4.892899e+15  ...  644.632199   68.697151\n",
      "4                        1  4.282494e+15  ...  688.222199  112.287151\n",
      "...                    ...           ...  ...         ...         ...\n",
      "9995                     1  4.979209e+15  ...  744.162199  168.227151\n",
      "9996                     5  4.481907e+15  ...  692.862199  116.927151\n",
      "9997                    10  4.210580e+15  ...  649.782199   73.847151\n",
      "9998                     1  4.542105e+15  ...  727.272199  151.337151\n",
      "9999                     3  4.486975e+15  ...  766.152199  190.217151\n",
      "\n",
      "[10000 rows x 29 columns]\n",
      "> 2024-02-12 13:29:49,267 [info] To track results use the CLI: {'info_cmd': 'mlrun get run 676e68621dd34bcd89b138f74954a4d5 -p sagemaker-admin', 'logs_cmd': 'mlrun logs 676e68621dd34bcd89b138f74954a4d5 -p sagemaker-admin'}\n",
      "> 2024-02-12 13:29:49,267 [info] Or click for UI: {'ui_url': 'https://dashboard.default-tenant.app.cust-cs-il-353.iguazio-cd2.com/mlprojects/sagemaker-admin/jobs/monitor/676e68621dd34bcd89b138f74954a4d5/overview'}\n",
      "> 2024-02-12 13:29:49,267 [info] Run execution finished: {'status': 'completed', 'name': 'evaluate-evaluate'}\n"
     ]
    },
    {
     "data": {
      "text/html": [
       "<style>\n",
       ".dictlist {\n",
       "  background-color: #4EC64B;\n",
       "  text-align: center;\n",
       "  margin: 4px;\n",
       "  border-radius: 3px; padding: 0px 3px 1px 3px; display: inline-block;}\n",
       ".artifact {\n",
       "  cursor: pointer;\n",
       "  background-color: #4EC64B;\n",
       "  text-align: left;\n",
       "  margin: 4px; border-radius: 3px; padding: 0px 3px 1px 3px; display: inline-block;\n",
       "}\n",
       "div.block.hidden {\n",
       "  display: none;\n",
       "}\n",
       ".clickable {\n",
       "  cursor: pointer;\n",
       "}\n",
       ".ellipsis {\n",
       "  display: inline-block;\n",
       "  max-width: 60px;\n",
       "  white-space: nowrap;\n",
       "  overflow: hidden;\n",
       "  text-overflow: ellipsis;\n",
       "}\n",
       ".master-wrapper {\n",
       "  display: flex;\n",
       "  flex-flow: row nowrap;\n",
       "  justify-content: flex-start;\n",
       "  align-items: stretch;\n",
       "}\n",
       ".master-tbl {\n",
       "  flex: 3\n",
       "}\n",
       ".master-wrapper > div {\n",
       "  margin: 4px;\n",
       "  padding: 10px;\n",
       "}\n",
       "iframe.fileview {\n",
       "  border: 0 none;\n",
       "  height: 100%;\n",
       "  width: 100%;\n",
       "  white-space: pre-wrap;\n",
       "}\n",
       ".pane-header-title {\n",
       "  width: 80%;\n",
       "  font-weight: 500;\n",
       "}\n",
       ".pane-header {\n",
       "  line-height: 1;\n",
       "  background-color: #4EC64B;\n",
       "  padding: 3px;\n",
       "}\n",
       ".pane-header .close {\n",
       "  font-size: 20px;\n",
       "  font-weight: 700;\n",
       "  float: right;\n",
       "  margin-top: -5px;\n",
       "}\n",
       ".master-wrapper .right-pane {\n",
       "  border: 1px inset silver;\n",
       "  width: 40%;\n",
       "  min-height: 300px;\n",
       "  flex: 3\n",
       "  min-width: 500px;\n",
       "}\n",
       ".master-wrapper * {\n",
       "  box-sizing: border-box;\n",
       "}\n",
       "</style><script>\n",
       "function copyToClipboard(fld) {\n",
       "    if (document.queryCommandSupported && document.queryCommandSupported('copy')) {\n",
       "        var textarea = document.createElement('textarea');\n",
       "        textarea.textContent = fld.innerHTML;\n",
       "        textarea.style.position = 'fixed';\n",
       "        document.body.appendChild(textarea);\n",
       "        textarea.select();\n",
       "\n",
       "        try {\n",
       "            return document.execCommand('copy'); // Security exception may be thrown by some browsers.\n",
       "        } catch (ex) {\n",
       "\n",
       "        } finally {\n",
       "            document.body.removeChild(textarea);\n",
       "        }\n",
       "    }\n",
       "}\n",
       "function expandPanel(el) {\n",
       "  const panelName = \"#\" + el.getAttribute('paneName');\n",
       "  console.log(el.title);\n",
       "\n",
       "  document.querySelector(panelName + \"-title\").innerHTML = el.title\n",
       "  iframe = document.querySelector(panelName + \"-body\");\n",
       "\n",
       "  const tblcss = `<style> body { font-family: Arial, Helvetica, sans-serif;}\n",
       "    #csv { margin-bottom: 15px; }\n",
       "    #csv table { border-collapse: collapse;}\n",
       "    #csv table td { padding: 4px 8px; border: 1px solid silver;} </style>`;\n",
       "\n",
       "  function csvToHtmlTable(str) {\n",
       "    return '<div id=\"csv\"><table><tr><td>' +  str.replace(/[\\n\\r]+$/g, '').replace(/[\\n\\r]+/g, '</td></tr><tr><td>')\n",
       "      .replace(/,/g, '</td><td>') + '</td></tr></table></div>';\n",
       "  }\n",
       "\n",
       "  function reqListener () {\n",
       "    if (el.title.endsWith(\".csv\")) {\n",
       "      iframe.setAttribute(\"srcdoc\", tblcss + csvToHtmlTable(this.responseText));\n",
       "    } else {\n",
       "      iframe.setAttribute(\"srcdoc\", this.responseText);\n",
       "    }\n",
       "    console.log(this.responseText);\n",
       "  }\n",
       "\n",
       "  const oReq = new XMLHttpRequest();\n",
       "  oReq.addEventListener(\"load\", reqListener);\n",
       "  oReq.open(\"GET\", el.title);\n",
       "  oReq.send();\n",
       "\n",
       "\n",
       "  //iframe.src = el.title;\n",
       "  const resultPane = document.querySelector(panelName + \"-pane\");\n",
       "  if (resultPane.classList.contains(\"hidden\")) {\n",
       "    resultPane.classList.remove(\"hidden\");\n",
       "  }\n",
       "}\n",
       "function closePanel(el) {\n",
       "  const panelName = \"#\" + el.getAttribute('paneName')\n",
       "  const resultPane = document.querySelector(panelName + \"-pane\");\n",
       "  if (!resultPane.classList.contains(\"hidden\")) {\n",
       "    resultPane.classList.add(\"hidden\");\n",
       "  }\n",
       "}\n",
       "\n",
       "</script>\n",
       "<div class=\"master-wrapper\">\n",
       "  <div class=\"block master-tbl\"><div>\n",
       "<style scoped>\n",
       "    .dataframe tbody tr th:only-of-type {\n",
       "        vertical-align: middle;\n",
       "    }\n",
       "\n",
       "    .dataframe tbody tr th {\n",
       "        vertical-align: top;\n",
       "    }\n",
       "\n",
       "    .dataframe thead th {\n",
       "        text-align: right;\n",
       "    }\n",
       "</style>\n",
       "<table border=\"1\" class=\"dataframe\">\n",
       "  <thead>\n",
       "    <tr style=\"text-align: right;\">\n",
       "      <th>project</th>\n",
       "      <th>uid</th>\n",
       "      <th>iter</th>\n",
       "      <th>start</th>\n",
       "      <th>state</th>\n",
       "      <th>name</th>\n",
       "      <th>labels</th>\n",
       "      <th>inputs</th>\n",
       "      <th>parameters</th>\n",
       "      <th>results</th>\n",
       "      <th>artifacts</th>\n",
       "    </tr>\n",
       "  </thead>\n",
       "  <tbody>\n",
       "    <tr>\n",
       "      <td>sagemaker-admin</td>\n",
       "      <td><div title=\"676e68621dd34bcd89b138f74954a4d5\"><a href=\"https://dashboard.default-tenant.app.cust-cs-il-353.iguazio-cd2.com/mlprojects/sagemaker-admin/jobs/monitor/676e68621dd34bcd89b138f74954a4d5/overview\" target=\"_blank\" >...4954a4d5</a></div></td>\n",
       "      <td>0</td>\n",
       "      <td>Feb 12 13:29:47</td>\n",
       "      <td>completed</td>\n",
       "      <td>evaluate-evaluate</td>\n",
       "      <td><div class=\"dictlist\">v3io_user=admin</div><div class=\"dictlist\">kind=job</div><div class=\"dictlist\">owner=admin</div><div class=\"dictlist\">mlrun/client_version=1.6.0-rc26</div><div class=\"dictlist\">mlrun/client_python_version=3.9.18</div><div class=\"dictlist\">host=evaluate-evaluate-bdkpj</div></td>\n",
       "      <td></td>\n",
       "      <td><div class=\"dictlist\">model_path=s3://sagemaker-us-east-2-934638699319/payment-classification/output/sagemaker-xgboost-2024-02-12-13-21-36-187/output/model.tar.gz</div><div class=\"dictlist\">model_name=xgboost-model</div><div class=\"dictlist\">test_set=s3://sagemaker-us-east-2-934638699319/payment-classification/test/test.csv</div><div class=\"dictlist\">label_column=transaction_category</div><div class=\"dictlist\">factorize_key={'Uncategorized': '0', 'Entertainment': '1', 'Education': '2', 'Shopping': '3', 'Personal Care': '4', 'Health and Fitness': '5', 'Food and Dining': '6', 'Gifts and Donations': '7', 'Investments': '8', 'Bills and Utilities': '9', 'Auto and Transport': '10', 'Travel': '11', 'Fees and Charges': '12', 'Business Services': '13', 'Personal Services': '14', 'Taxes': '15', 'Gambling': '16', 'Home': '17', 'Pension and insurances': '18'}</div></td>\n",
       "      <td></td>\n",
       "      <td><div title=\"v3io:///projects/sagemaker-admin/artifacts/evaluate-evaluate/0/classification_report.parquet\">classification_report</div></td>\n",
       "    </tr>\n",
       "  </tbody>\n",
       "</table>\n",
       "</div></div>\n",
       "  <div id=\"resultc3104ba9-pane\" class=\"right-pane block hidden\">\n",
       "    <div class=\"pane-header\">\n",
       "      <span id=\"resultc3104ba9-title\" class=\"pane-header-title\">Title</span>\n",
       "      <span onclick=\"closePanel(this)\" paneName=\"resultc3104ba9\" class=\"close clickable\">&times;</span>\n",
       "    </div>\n",
       "    <iframe class=\"fileview\" id=\"resultc3104ba9-body\"></iframe>\n",
       "  </div>\n",
       "</div>\n"
      ],
      "text/plain": [
       "<IPython.core.display.HTML object>"
      ]
     },
     "metadata": {},
     "output_type": "display_data"
    },
    {
     "name": "stdout",
     "output_type": "stream",
     "text": [
      "\n"
     ]
    },
    {
     "data": {
      "text/html": [
       "<b> > to track results use the .show() or .logs() methods  or <a href=\"https://dashboard.default-tenant.app.cust-cs-il-353.iguazio-cd2.com/mlprojects/sagemaker-admin/jobs/monitor/676e68621dd34bcd89b138f74954a4d5/overview\" target=\"_blank\">click here</a> to open in UI</b>"
      ],
      "text/plain": [
       "<IPython.core.display.HTML object>"
      ]
     },
     "metadata": {},
     "output_type": "display_data"
    },
    {
     "name": "stdout",
     "output_type": "stream",
     "text": [
      "> 2024-02-12 13:29:55,177 [info] Run execution finished: {'status': 'completed', 'name': 'evaluate-evaluate'}\n"
     ]
    }
   ],
   "source": [
    "evaluate_run = evaluate_function.run(\n",
    "    handler=\"evaluate\",\n",
    "    params={\n",
    "        \"model_path\": xgb.model_data,\n",
    "        \"model_name\": \"xgboost-model\",\n",
    "        \"test_set\": s3_data,\n",
    "        \"label_column\": \"transaction_category\",\n",
    "        \"factorize_key\": factorize_key,\n",
    "    },\n",
    "    returns=[\"classification_report: dataset\"])"
   ]
  },
  {
   "cell_type": "code",
   "execution_count": 44,
   "id": "a40da196-0ee8-4ac6-9f7b-bea35ab181c9",
   "metadata": {},
   "outputs": [
    {
     "data": {
      "text/html": [
       "<div>\n",
       "<style scoped>\n",
       "    .dataframe tbody tr th:only-of-type {\n",
       "        vertical-align: middle;\n",
       "    }\n",
       "\n",
       "    .dataframe tbody tr th {\n",
       "        vertical-align: top;\n",
       "    }\n",
       "\n",
       "    .dataframe thead th {\n",
       "        text-align: right;\n",
       "    }\n",
       "</style>\n",
       "<table border=\"1\" class=\"dataframe\">\n",
       "  <thead>\n",
       "    <tr style=\"text-align: right;\">\n",
       "      <th></th>\n",
       "      <th>precision</th>\n",
       "      <th>recall</th>\n",
       "      <th>f1-score</th>\n",
       "      <th>support</th>\n",
       "    </tr>\n",
       "  </thead>\n",
       "  <tbody>\n",
       "    <tr>\n",
       "      <th>Uncategorized</th>\n",
       "      <td>1.000000</td>\n",
       "      <td>0.921569</td>\n",
       "      <td>0.959184</td>\n",
       "      <td>51.000</td>\n",
       "    </tr>\n",
       "    <tr>\n",
       "      <th>Entertainment</th>\n",
       "      <td>0.795745</td>\n",
       "      <td>0.880888</td>\n",
       "      <td>0.836155</td>\n",
       "      <td>1486.000</td>\n",
       "    </tr>\n",
       "    <tr>\n",
       "      <th>Education</th>\n",
       "      <td>1.000000</td>\n",
       "      <td>0.937500</td>\n",
       "      <td>0.967742</td>\n",
       "      <td>80.000</td>\n",
       "    </tr>\n",
       "    <tr>\n",
       "      <th>Shopping</th>\n",
       "      <td>0.848892</td>\n",
       "      <td>0.935484</td>\n",
       "      <td>0.890087</td>\n",
       "      <td>3441.000</td>\n",
       "    </tr>\n",
       "    <tr>\n",
       "      <th>Personal Care</th>\n",
       "      <td>1.000000</td>\n",
       "      <td>0.984848</td>\n",
       "      <td>0.992366</td>\n",
       "      <td>132.000</td>\n",
       "    </tr>\n",
       "    <tr>\n",
       "      <th>Health and Fitness</th>\n",
       "      <td>0.987864</td>\n",
       "      <td>0.918736</td>\n",
       "      <td>0.952047</td>\n",
       "      <td>443.000</td>\n",
       "    </tr>\n",
       "    <tr>\n",
       "      <th>Food and Dining</th>\n",
       "      <td>0.989542</td>\n",
       "      <td>0.824619</td>\n",
       "      <td>0.899584</td>\n",
       "      <td>918.000</td>\n",
       "    </tr>\n",
       "    <tr>\n",
       "      <th>Gifts and Donations</th>\n",
       "      <td>0.996169</td>\n",
       "      <td>0.945455</td>\n",
       "      <td>0.970149</td>\n",
       "      <td>275.000</td>\n",
       "    </tr>\n",
       "    <tr>\n",
       "      <th>Investments</th>\n",
       "      <td>0.988235</td>\n",
       "      <td>0.954545</td>\n",
       "      <td>0.971098</td>\n",
       "      <td>88.000</td>\n",
       "    </tr>\n",
       "    <tr>\n",
       "      <th>Bills and Utilities</th>\n",
       "      <td>0.996979</td>\n",
       "      <td>0.993976</td>\n",
       "      <td>0.995475</td>\n",
       "      <td>332.000</td>\n",
       "    </tr>\n",
       "    <tr>\n",
       "      <th>Auto and Transport</th>\n",
       "      <td>0.938012</td>\n",
       "      <td>0.815455</td>\n",
       "      <td>0.872450</td>\n",
       "      <td>1967.000</td>\n",
       "    </tr>\n",
       "    <tr>\n",
       "      <th>Travel</th>\n",
       "      <td>0.952381</td>\n",
       "      <td>0.833333</td>\n",
       "      <td>0.888889</td>\n",
       "      <td>120.000</td>\n",
       "    </tr>\n",
       "    <tr>\n",
       "      <th>Fees and Charges</th>\n",
       "      <td>1.000000</td>\n",
       "      <td>0.952830</td>\n",
       "      <td>0.975845</td>\n",
       "      <td>106.000</td>\n",
       "    </tr>\n",
       "    <tr>\n",
       "      <th>Business Services</th>\n",
       "      <td>1.000000</td>\n",
       "      <td>0.993151</td>\n",
       "      <td>0.996564</td>\n",
       "      <td>146.000</td>\n",
       "    </tr>\n",
       "    <tr>\n",
       "      <th>Personal Services</th>\n",
       "      <td>1.000000</td>\n",
       "      <td>0.960000</td>\n",
       "      <td>0.979592</td>\n",
       "      <td>75.000</td>\n",
       "    </tr>\n",
       "    <tr>\n",
       "      <th>Taxes</th>\n",
       "      <td>1.000000</td>\n",
       "      <td>0.936170</td>\n",
       "      <td>0.967033</td>\n",
       "      <td>47.000</td>\n",
       "    </tr>\n",
       "    <tr>\n",
       "      <th>Gambling</th>\n",
       "      <td>1.000000</td>\n",
       "      <td>1.000000</td>\n",
       "      <td>1.000000</td>\n",
       "      <td>15.000</td>\n",
       "    </tr>\n",
       "    <tr>\n",
       "      <th>Home</th>\n",
       "      <td>0.980519</td>\n",
       "      <td>0.898810</td>\n",
       "      <td>0.937888</td>\n",
       "      <td>168.000</td>\n",
       "    </tr>\n",
       "    <tr>\n",
       "      <th>Pension and insurances</th>\n",
       "      <td>0.990991</td>\n",
       "      <td>1.000000</td>\n",
       "      <td>0.995475</td>\n",
       "      <td>110.000</td>\n",
       "    </tr>\n",
       "    <tr>\n",
       "      <th>accuracy</th>\n",
       "      <td>0.896000</td>\n",
       "      <td>0.896000</td>\n",
       "      <td>0.896000</td>\n",
       "      <td>0.896</td>\n",
       "    </tr>\n",
       "    <tr>\n",
       "      <th>macro avg</th>\n",
       "      <td>0.971859</td>\n",
       "      <td>0.930914</td>\n",
       "      <td>0.949875</td>\n",
       "      <td>10000.000</td>\n",
       "    </tr>\n",
       "    <tr>\n",
       "      <th>weighted avg</th>\n",
       "      <td>0.902654</td>\n",
       "      <td>0.896000</td>\n",
       "      <td>0.896567</td>\n",
       "      <td>10000.000</td>\n",
       "    </tr>\n",
       "  </tbody>\n",
       "</table>\n",
       "</div>"
      ],
      "text/plain": [
       "                        precision    recall  f1-score    support\n",
       "Uncategorized            1.000000  0.921569  0.959184     51.000\n",
       "Entertainment            0.795745  0.880888  0.836155   1486.000\n",
       "Education                1.000000  0.937500  0.967742     80.000\n",
       "Shopping                 0.848892  0.935484  0.890087   3441.000\n",
       "Personal Care            1.000000  0.984848  0.992366    132.000\n",
       "Health and Fitness       0.987864  0.918736  0.952047    443.000\n",
       "Food and Dining          0.989542  0.824619  0.899584    918.000\n",
       "Gifts and Donations      0.996169  0.945455  0.970149    275.000\n",
       "Investments              0.988235  0.954545  0.971098     88.000\n",
       "Bills and Utilities      0.996979  0.993976  0.995475    332.000\n",
       "Auto and Transport       0.938012  0.815455  0.872450   1967.000\n",
       "Travel                   0.952381  0.833333  0.888889    120.000\n",
       "Fees and Charges         1.000000  0.952830  0.975845    106.000\n",
       "Business Services        1.000000  0.993151  0.996564    146.000\n",
       "Personal Services        1.000000  0.960000  0.979592     75.000\n",
       "Taxes                    1.000000  0.936170  0.967033     47.000\n",
       "Gambling                 1.000000  1.000000  1.000000     15.000\n",
       "Home                     0.980519  0.898810  0.937888    168.000\n",
       "Pension and insurances   0.990991  1.000000  0.995475    110.000\n",
       "accuracy                 0.896000  0.896000  0.896000      0.896\n",
       "macro avg                0.971859  0.930914  0.949875  10000.000\n",
       "weighted avg             0.902654  0.896000  0.896567  10000.000"
      ]
     },
     "execution_count": 44,
     "metadata": {},
     "output_type": "execute_result"
    }
   ],
   "source": [
    "evaluate_run.artifact(\"classification_report\").as_df()"
   ]
  },
  {
   "attachments": {},
   "cell_type": "markdown",
   "id": "98d0b67e",
   "metadata": {},
   "source": [
    "You should see results similar to this:\n",
    "\n",
    "```\n",
    "                        precision    recall  f1-score   support\n",
    "\n",
    "         Uncategorized       1.00      0.92      0.96        51\n",
    "         Entertainment       0.81      0.89      0.85      1486\n",
    "             Education       1.00      0.94      0.97        80\n",
    "              Shopping       0.86      0.94      0.90      3441\n",
    "         Personal Care       1.00      0.98      0.99       132\n",
    "    Health and Fitness       0.99      0.89      0.94       443\n",
    "       Food and Dining       0.99      0.82      0.90       918\n",
    "   Gifts and Donations       1.00      0.95      0.97       275\n",
    "           Investments       0.99      0.97      0.98        88\n",
    "   Bills and Utilities       1.00      0.99      1.00       332\n",
    "    Auto and Transport       0.94      0.84      0.88      1967\n",
    "                Travel       0.96      0.84      0.90       120\n",
    "      Fees and Charges       1.00      0.94      0.97       106\n",
    "     Business Services       1.00      0.99      1.00       146\n",
    "     Personal Services       1.00      0.96      0.98        75\n",
    "                 Taxes       0.98      0.94      0.96        47\n",
    "              Gambling       1.00      1.00      1.00        15\n",
    "                  Home       0.98      0.89      0.93       168\n",
    "Pension and insurances       0.99      1.00      1.00       110\n",
    "\n",
    "              accuracy                           0.90     10000\n",
    "             macro avg       0.97      0.93      0.95     10000\n",
    "          weighted avg       0.91      0.90      0.90     10000\n",
    "```"
   ]
  },
  {
   "attachments": {},
   "cell_type": "markdown",
   "id": "49fdc82d",
   "metadata": {},
   "source": [
    "### 7. Clean up <a class=\"anchor\" id=\"Clean-up\"></a>\n",
    "\n",
    "Remove the feature group and endpoint to clean up"
   ]
  },
  {
   "cell_type": "code",
   "execution_count": 47,
   "id": "f79b1164",
   "metadata": {},
   "outputs": [],
   "source": [
    "feature_group.delete()\n",
    "#xgb_predictor.delete_endpoint(delete_endpoint_config=True)"
   ]
  },
  {
   "attachments": {},
   "cell_type": "markdown",
   "id": "e04b6fa6",
   "metadata": {},
   "source": [
    "## Notebook CI Test Results\n",
    "\n",
    "This notebook was tested in multiple regions. The test results are as follows, except for us-west-2 which is shown at the top of the notebook.\n",
    "\n",
    "![This us-east-1 badge failed to load. Check your device's internet connectivity, otherwise the service is currently unavailable](https://prod.us-west-2.tcx-beacon.docs.aws.dev/sagemaker-nb/us-east-1/use-cases|financial_payment_classification|financial_payment_classification.ipynb)\n",
    "\n",
    "![This us-east-2 badge failed to load. Check your device's internet connectivity, otherwise the service is currently unavailable](https://prod.us-west-2.tcx-beacon.docs.aws.dev/sagemaker-nb/us-east-2/use-cases|financial_payment_classification|financial_payment_classification.ipynb)\n",
    "\n",
    "![This us-west-1 badge failed to load. Check your device's internet connectivity, otherwise the service is currently unavailable](https://prod.us-west-2.tcx-beacon.docs.aws.dev/sagemaker-nb/us-west-1/use-cases|financial_payment_classification|financial_payment_classification.ipynb)\n",
    "\n",
    "![This ca-central-1 badge failed to load. Check your device's internet connectivity, otherwise the service is currently unavailable](https://prod.us-west-2.tcx-beacon.docs.aws.dev/sagemaker-nb/ca-central-1/use-cases|financial_payment_classification|financial_payment_classification.ipynb)\n",
    "\n",
    "![This sa-east-1 badge failed to load. Check your device's internet connectivity, otherwise the service is currently unavailable](https://prod.us-west-2.tcx-beacon.docs.aws.dev/sagemaker-nb/sa-east-1/use-cases|financial_payment_classification|financial_payment_classification.ipynb)\n",
    "\n",
    "![This eu-west-1 badge failed to load. Check your device's internet connectivity, otherwise the service is currently unavailable](https://prod.us-west-2.tcx-beacon.docs.aws.dev/sagemaker-nb/eu-west-1/use-cases|financial_payment_classification|financial_payment_classification.ipynb)\n",
    "\n",
    "![This eu-west-2 badge failed to load. Check your device's internet connectivity, otherwise the service is currently unavailable](https://prod.us-west-2.tcx-beacon.docs.aws.dev/sagemaker-nb/eu-west-2/use-cases|financial_payment_classification|financial_payment_classification.ipynb)\n",
    "\n",
    "![This eu-west-3 badge failed to load. Check your device's internet connectivity, otherwise the service is currently unavailable](https://prod.us-west-2.tcx-beacon.docs.aws.dev/sagemaker-nb/eu-west-3/use-cases|financial_payment_classification|financial_payment_classification.ipynb)\n",
    "\n",
    "![This eu-central-1 badge failed to load. Check your device's internet connectivity, otherwise the service is currently unavailable](https://prod.us-west-2.tcx-beacon.docs.aws.dev/sagemaker-nb/eu-central-1/use-cases|financial_payment_classification|financial_payment_classification.ipynb)\n",
    "\n",
    "![This eu-north-1 badge failed to load. Check your device's internet connectivity, otherwise the service is currently unavailable](https://prod.us-west-2.tcx-beacon.docs.aws.dev/sagemaker-nb/eu-north-1/use-cases|financial_payment_classification|financial_payment_classification.ipynb)\n",
    "\n",
    "![This ap-southeast-1 badge failed to load. Check your device's internet connectivity, otherwise the service is currently unavailable](https://prod.us-west-2.tcx-beacon.docs.aws.dev/sagemaker-nb/ap-southeast-1/use-cases|financial_payment_classification|financial_payment_classification.ipynb)\n",
    "\n",
    "![This ap-southeast-2 badge failed to load. Check your device's internet connectivity, otherwise the service is currently unavailable](https://prod.us-west-2.tcx-beacon.docs.aws.dev/sagemaker-nb/ap-southeast-2/use-cases|financial_payment_classification|financial_payment_classification.ipynb)\n",
    "\n",
    "![This ap-northeast-1 badge failed to load. Check your device's internet connectivity, otherwise the service is currently unavailable](https://prod.us-west-2.tcx-beacon.docs.aws.dev/sagemaker-nb/ap-northeast-1/use-cases|financial_payment_classification|financial_payment_classification.ipynb)\n",
    "\n",
    "![This ap-northeast-2 badge failed to load. Check your device's internet connectivity, otherwise the service is currently unavailable](https://prod.us-west-2.tcx-beacon.docs.aws.dev/sagemaker-nb/ap-northeast-2/use-cases|financial_payment_classification|financial_payment_classification.ipynb)\n",
    "\n",
    "![This ap-south-1 badge failed to load. Check your device's internet connectivity, otherwise the service is currently unavailable](https://prod.us-west-2.tcx-beacon.docs.aws.dev/sagemaker-nb/ap-south-1/use-cases|financial_payment_classification|financial_payment_classification.ipynb)\n"
   ]
  }
 ],
 "metadata": {
  "instance_type": "ml.t3.medium",
  "kernelspec": {
   "display_name": "smdemo",
   "language": "python",
   "name": "smdemo"
  },
  "language_info": {
   "codemirror_mode": {
    "name": "ipython",
    "version": 3
   },
   "file_extension": ".py",
   "mimetype": "text/x-python",
   "name": "python",
   "nbconvert_exporter": "python",
   "pygments_lexer": "ipython3",
   "version": "3.9.18"
  }
 },
 "nbformat": 4,
 "nbformat_minor": 5
}
